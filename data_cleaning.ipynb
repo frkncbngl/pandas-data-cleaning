{
 "cells": [
  {
   "cell_type": "markdown",
   "metadata": {},
   "source": [
    "# Data Cleaning and Preparing for Further Analysis"
   ]
  },
  {
   "cell_type": "markdown",
   "metadata": {},
   "source": [
    "#### Importing pandas library to analyze data."
   ]
  },
  {
   "cell_type": "code",
   "execution_count": 1,
   "metadata": {},
   "outputs": [],
   "source": [
    "import pandas as pd"
   ]
  },
  {
   "cell_type": "markdown",
   "metadata": {},
   "source": [
    "## Reading the file.\n",
    "This excel file contains many sheets, so we will have to concatenate them together.\n",
    "- First we read the file with the following code.\n",
    "- Then we create a list as a place holder to store the sheets as Pandas DataFrames.\n",
    "- Then we iterate through the sheets in that excel file and store them in that place holder list.\n",
    "- After iterations are completed we concatenate all the dataframes in to a single dataframe."
   ]
  },
  {
   "cell_type": "code",
   "execution_count": 2,
   "metadata": {},
   "outputs": [],
   "source": [
    "f = pd.ExcelFile(\"AMSNYC.xlsx\")"
   ]
  },
  {
   "cell_type": "code",
   "execution_count": 3,
   "metadata": {},
   "outputs": [],
   "source": [
    "list_of_dfs = []\n",
    "for sheet in f.sheet_names:\n",
    "    df = f.parse(sheet)\n",
    "    list_of_dfs.append(df)\n",
    "data = pd.concat(list_of_dfs,ignore_index= True)"
   ]
  },
  {
   "cell_type": "markdown",
   "metadata": {},
   "source": [
    "## First Glance\n",
    "Let's have a look at our data and try to understand what we are working with."
   ]
  },
  {
   "cell_type": "code",
   "execution_count": 4,
   "metadata": {},
   "outputs": [
    {
     "data": {
      "text/html": [
       "<div>\n",
       "<style scoped>\n",
       "    .dataframe tbody tr th:only-of-type {\n",
       "        vertical-align: middle;\n",
       "    }\n",
       "\n",
       "    .dataframe tbody tr th {\n",
       "        vertical-align: top;\n",
       "    }\n",
       "\n",
       "    .dataframe thead th {\n",
       "        text-align: right;\n",
       "    }\n",
       "</style>\n",
       "<table border=\"1\" class=\"dataframe\">\n",
       "  <thead>\n",
       "    <tr style=\"text-align: right;\">\n",
       "      <th></th>\n",
       "      <th>Price filter_alt</th>\n",
       "      <th>Airline filter_alt</th>\n",
       "      <th>Depart filter_alt</th>\n",
       "      <th>Arrive filter_alt</th>\n",
       "      <th>Duration filter_alt</th>\n",
       "      <th>From/To filter_alt</th>\n",
       "      <th>Stops filter_alt</th>\n",
       "      <th>Advisory filter_alt</th>\n",
       "      <th>start_date</th>\n",
       "      <th>end_date</th>\n",
       "    </tr>\n",
       "  </thead>\n",
       "  <tbody>\n",
       "    <tr>\n",
       "      <th>0</th>\n",
       "      <td>€481</td>\n",
       "      <td>Scandinavian Airlines</td>\n",
       "      <td>9:20 PM5:50 PM</td>\n",
       "      <td>1:35 PM(02-02)10:30 AM(02-09)</td>\n",
       "      <td>22h 15m 10h 40m</td>\n",
       "      <td>AMS to EWR EWR to AMS</td>\n",
       "      <td>ARN ARN</td>\n",
       "      <td>NaN</td>\n",
       "      <td>02/01/2024</td>\n",
       "      <td>02/08/2024</td>\n",
       "    </tr>\n",
       "    <tr>\n",
       "      <th>1</th>\n",
       "      <td>€490</td>\n",
       "      <td>Scandinavian Airlines</td>\n",
       "      <td>7:00 AM5:50 PM</td>\n",
       "      <td>3:15 PM10:30 AM(02-09)</td>\n",
       "      <td>14h 15m 10h 40m</td>\n",
       "      <td>AMS to EWR EWR to AMS</td>\n",
       "      <td>CPH ARN</td>\n",
       "      <td>NaN</td>\n",
       "      <td>02/01/2024</td>\n",
       "      <td>02/08/2024</td>\n",
       "    </tr>\n",
       "    <tr>\n",
       "      <th>2</th>\n",
       "      <td>€490</td>\n",
       "      <td>Scandinavian Airlines</td>\n",
       "      <td>10:25 AM5:50 PM</td>\n",
       "      <td>3:15 PM10:30 AM(02-09)</td>\n",
       "      <td>10h 50m 10h 40m</td>\n",
       "      <td>AMS to EWR EWR to AMS</td>\n",
       "      <td>CPH ARN</td>\n",
       "      <td>NaN</td>\n",
       "      <td>02/01/2024</td>\n",
       "      <td>02/08/2024</td>\n",
       "    </tr>\n",
       "    <tr>\n",
       "      <th>3</th>\n",
       "      <td>€490</td>\n",
       "      <td>Scandinavian Airlines</td>\n",
       "      <td>2:55 PM5:50 PM</td>\n",
       "      <td>9:30 PM10:30 AM(02-09)</td>\n",
       "      <td>12h 35m 10h 40m</td>\n",
       "      <td>AMS to JFK EWR to AMS</td>\n",
       "      <td>CPH ARN</td>\n",
       "      <td>NaN</td>\n",
       "      <td>02/01/2024</td>\n",
       "      <td>02/08/2024</td>\n",
       "    </tr>\n",
       "    <tr>\n",
       "      <th>4</th>\n",
       "      <td>€490</td>\n",
       "      <td>Scandinavian Airlines</td>\n",
       "      <td>9:20 PM5:35 PM</td>\n",
       "      <td>1:35 PM(02-02)9:45 AM(02-09)</td>\n",
       "      <td>22h 15m 10h 10m</td>\n",
       "      <td>AMS to EWR EWR to AMS</td>\n",
       "      <td>ARN CPH</td>\n",
       "      <td>NaN</td>\n",
       "      <td>02/01/2024</td>\n",
       "      <td>02/08/2024</td>\n",
       "    </tr>\n",
       "  </tbody>\n",
       "</table>\n",
       "</div>"
      ],
      "text/plain": [
       "  Price filter_alt     Airline filter_alt Depart filter_alt  \\\n",
       "0             €481  Scandinavian Airlines    9:20 PM5:50 PM   \n",
       "1             €490  Scandinavian Airlines    7:00 AM5:50 PM   \n",
       "2             €490  Scandinavian Airlines   10:25 AM5:50 PM   \n",
       "3             €490  Scandinavian Airlines    2:55 PM5:50 PM   \n",
       "4             €490  Scandinavian Airlines    9:20 PM5:35 PM   \n",
       "\n",
       "               Arrive filter_alt Duration filter_alt     From/To filter_alt  \\\n",
       "0  1:35 PM(02-02)10:30 AM(02-09)     22h 15m 10h 40m  AMS to EWR EWR to AMS   \n",
       "1         3:15 PM10:30 AM(02-09)     14h 15m 10h 40m  AMS to EWR EWR to AMS   \n",
       "2         3:15 PM10:30 AM(02-09)     10h 50m 10h 40m  AMS to EWR EWR to AMS   \n",
       "3         9:30 PM10:30 AM(02-09)     12h 35m 10h 40m  AMS to JFK EWR to AMS   \n",
       "4   1:35 PM(02-02)9:45 AM(02-09)     22h 15m 10h 10m  AMS to EWR EWR to AMS   \n",
       "\n",
       "  Stops filter_alt  Advisory filter_alt  start_date    end_date  \n",
       "0          ARN ARN                  NaN  02/01/2024  02/08/2024  \n",
       "1          CPH ARN                  NaN  02/01/2024  02/08/2024  \n",
       "2          CPH ARN                  NaN  02/01/2024  02/08/2024  \n",
       "3          CPH ARN                  NaN  02/01/2024  02/08/2024  \n",
       "4          ARN CPH                  NaN  02/01/2024  02/08/2024  "
      ]
     },
     "execution_count": 4,
     "metadata": {},
     "output_type": "execute_result"
    }
   ],
   "source": [
    "data.head()"
   ]
  },
  {
   "cell_type": "markdown",
   "metadata": {},
   "source": [
    "Dataframe above looks like kind of a mess, prices column have currency symbols, almost all the columns have both outbound and inbound flight info in a single \"cell\".\n",
    "But before starting to clean the data lets have a look at the datatypes and see if we can eliminate any columns right away."
   ]
  },
  {
   "cell_type": "code",
   "execution_count": 5,
   "metadata": {},
   "outputs": [
    {
     "data": {
      "text/plain": [
       "Price filter_alt        object\n",
       "Airline filter_alt      object\n",
       "Depart filter_alt       object\n",
       "Arrive filter_alt       object\n",
       "Duration filter_alt     object\n",
       "From/To filter_alt      object\n",
       "Stops filter_alt        object\n",
       "Advisory filter_alt    float64\n",
       "start_date              object\n",
       "end_date                object\n",
       "dtype: object"
      ]
     },
     "execution_count": 5,
     "metadata": {},
     "output_type": "execute_result"
    }
   ],
   "source": [
    "data.dtypes"
   ]
  },
  {
   "cell_type": "markdown",
   "metadata": {},
   "source": [
    "Advisory filter_alt column seems to be the only column that has numerical values for now. But lets see what kind of data it contains."
   ]
  },
  {
   "cell_type": "code",
   "execution_count": 6,
   "metadata": {},
   "outputs": [
    {
     "data": {
      "text/plain": [
       "array([nan])"
      ]
     },
     "execution_count": 6,
     "metadata": {},
     "output_type": "execute_result"
    }
   ],
   "source": [
    "data[\"Advisory filter_alt\"].unique()"
   ]
  },
  {
   "cell_type": "markdown",
   "metadata": {},
   "source": [
    "It looks like Advisory filter_alt column does not contain any value, so we can drop it."
   ]
  },
  {
   "cell_type": "code",
   "execution_count": 7,
   "metadata": {},
   "outputs": [],
   "source": [
    "data.drop(\"Advisory filter_alt\",axis=1,inplace=True)"
   ]
  },
  {
   "cell_type": "markdown",
   "metadata": {},
   "source": [
    "Let's have another look to our dataframe after dropping the column."
   ]
  },
  {
   "cell_type": "code",
   "execution_count": 8,
   "metadata": {},
   "outputs": [
    {
     "data": {
      "text/html": [
       "<div>\n",
       "<style scoped>\n",
       "    .dataframe tbody tr th:only-of-type {\n",
       "        vertical-align: middle;\n",
       "    }\n",
       "\n",
       "    .dataframe tbody tr th {\n",
       "        vertical-align: top;\n",
       "    }\n",
       "\n",
       "    .dataframe thead th {\n",
       "        text-align: right;\n",
       "    }\n",
       "</style>\n",
       "<table border=\"1\" class=\"dataframe\">\n",
       "  <thead>\n",
       "    <tr style=\"text-align: right;\">\n",
       "      <th></th>\n",
       "      <th>Price filter_alt</th>\n",
       "      <th>Airline filter_alt</th>\n",
       "      <th>Depart filter_alt</th>\n",
       "      <th>Arrive filter_alt</th>\n",
       "      <th>Duration filter_alt</th>\n",
       "      <th>From/To filter_alt</th>\n",
       "      <th>Stops filter_alt</th>\n",
       "      <th>start_date</th>\n",
       "      <th>end_date</th>\n",
       "    </tr>\n",
       "  </thead>\n",
       "  <tbody>\n",
       "    <tr>\n",
       "      <th>0</th>\n",
       "      <td>€481</td>\n",
       "      <td>Scandinavian Airlines</td>\n",
       "      <td>9:20 PM5:50 PM</td>\n",
       "      <td>1:35 PM(02-02)10:30 AM(02-09)</td>\n",
       "      <td>22h 15m 10h 40m</td>\n",
       "      <td>AMS to EWR EWR to AMS</td>\n",
       "      <td>ARN ARN</td>\n",
       "      <td>02/01/2024</td>\n",
       "      <td>02/08/2024</td>\n",
       "    </tr>\n",
       "    <tr>\n",
       "      <th>1</th>\n",
       "      <td>€490</td>\n",
       "      <td>Scandinavian Airlines</td>\n",
       "      <td>7:00 AM5:50 PM</td>\n",
       "      <td>3:15 PM10:30 AM(02-09)</td>\n",
       "      <td>14h 15m 10h 40m</td>\n",
       "      <td>AMS to EWR EWR to AMS</td>\n",
       "      <td>CPH ARN</td>\n",
       "      <td>02/01/2024</td>\n",
       "      <td>02/08/2024</td>\n",
       "    </tr>\n",
       "    <tr>\n",
       "      <th>2</th>\n",
       "      <td>€490</td>\n",
       "      <td>Scandinavian Airlines</td>\n",
       "      <td>10:25 AM5:50 PM</td>\n",
       "      <td>3:15 PM10:30 AM(02-09)</td>\n",
       "      <td>10h 50m 10h 40m</td>\n",
       "      <td>AMS to EWR EWR to AMS</td>\n",
       "      <td>CPH ARN</td>\n",
       "      <td>02/01/2024</td>\n",
       "      <td>02/08/2024</td>\n",
       "    </tr>\n",
       "    <tr>\n",
       "      <th>3</th>\n",
       "      <td>€490</td>\n",
       "      <td>Scandinavian Airlines</td>\n",
       "      <td>2:55 PM5:50 PM</td>\n",
       "      <td>9:30 PM10:30 AM(02-09)</td>\n",
       "      <td>12h 35m 10h 40m</td>\n",
       "      <td>AMS to JFK EWR to AMS</td>\n",
       "      <td>CPH ARN</td>\n",
       "      <td>02/01/2024</td>\n",
       "      <td>02/08/2024</td>\n",
       "    </tr>\n",
       "    <tr>\n",
       "      <th>4</th>\n",
       "      <td>€490</td>\n",
       "      <td>Scandinavian Airlines</td>\n",
       "      <td>9:20 PM5:35 PM</td>\n",
       "      <td>1:35 PM(02-02)9:45 AM(02-09)</td>\n",
       "      <td>22h 15m 10h 10m</td>\n",
       "      <td>AMS to EWR EWR to AMS</td>\n",
       "      <td>ARN CPH</td>\n",
       "      <td>02/01/2024</td>\n",
       "      <td>02/08/2024</td>\n",
       "    </tr>\n",
       "  </tbody>\n",
       "</table>\n",
       "</div>"
      ],
      "text/plain": [
       "  Price filter_alt     Airline filter_alt Depart filter_alt  \\\n",
       "0             €481  Scandinavian Airlines    9:20 PM5:50 PM   \n",
       "1             €490  Scandinavian Airlines    7:00 AM5:50 PM   \n",
       "2             €490  Scandinavian Airlines   10:25 AM5:50 PM   \n",
       "3             €490  Scandinavian Airlines    2:55 PM5:50 PM   \n",
       "4             €490  Scandinavian Airlines    9:20 PM5:35 PM   \n",
       "\n",
       "               Arrive filter_alt Duration filter_alt     From/To filter_alt  \\\n",
       "0  1:35 PM(02-02)10:30 AM(02-09)     22h 15m 10h 40m  AMS to EWR EWR to AMS   \n",
       "1         3:15 PM10:30 AM(02-09)     14h 15m 10h 40m  AMS to EWR EWR to AMS   \n",
       "2         3:15 PM10:30 AM(02-09)     10h 50m 10h 40m  AMS to EWR EWR to AMS   \n",
       "3         9:30 PM10:30 AM(02-09)     12h 35m 10h 40m  AMS to JFK EWR to AMS   \n",
       "4   1:35 PM(02-02)9:45 AM(02-09)     22h 15m 10h 10m  AMS to EWR EWR to AMS   \n",
       "\n",
       "  Stops filter_alt  start_date    end_date  \n",
       "0          ARN ARN  02/01/2024  02/08/2024  \n",
       "1          CPH ARN  02/01/2024  02/08/2024  \n",
       "2          CPH ARN  02/01/2024  02/08/2024  \n",
       "3          CPH ARN  02/01/2024  02/08/2024  \n",
       "4          ARN CPH  02/01/2024  02/08/2024  "
      ]
     },
     "execution_count": 8,
     "metadata": {},
     "output_type": "execute_result"
    }
   ],
   "source": [
    "data.head()"
   ]
  },
  {
   "cell_type": "markdown",
   "metadata": {},
   "source": [
    "It looks better, but column names are hard to understand. Let's give them more readable names. And see how that looks."
   ]
  },
  {
   "cell_type": "code",
   "execution_count": 9,
   "metadata": {},
   "outputs": [
    {
     "data": {
      "text/html": [
       "<div>\n",
       "<style scoped>\n",
       "    .dataframe tbody tr th:only-of-type {\n",
       "        vertical-align: middle;\n",
       "    }\n",
       "\n",
       "    .dataframe tbody tr th {\n",
       "        vertical-align: top;\n",
       "    }\n",
       "\n",
       "    .dataframe thead th {\n",
       "        text-align: right;\n",
       "    }\n",
       "</style>\n",
       "<table border=\"1\" class=\"dataframe\">\n",
       "  <thead>\n",
       "    <tr style=\"text-align: right;\">\n",
       "      <th></th>\n",
       "      <th>price</th>\n",
       "      <th>carrier</th>\n",
       "      <th>depart_time</th>\n",
       "      <th>arrive_time</th>\n",
       "      <th>duration</th>\n",
       "      <th>from_to</th>\n",
       "      <th>stops</th>\n",
       "      <th>start_date</th>\n",
       "      <th>end_date</th>\n",
       "    </tr>\n",
       "  </thead>\n",
       "  <tbody>\n",
       "    <tr>\n",
       "      <th>0</th>\n",
       "      <td>€481</td>\n",
       "      <td>Scandinavian Airlines</td>\n",
       "      <td>9:20 PM5:50 PM</td>\n",
       "      <td>1:35 PM(02-02)10:30 AM(02-09)</td>\n",
       "      <td>22h 15m 10h 40m</td>\n",
       "      <td>AMS to EWR EWR to AMS</td>\n",
       "      <td>ARN ARN</td>\n",
       "      <td>02/01/2024</td>\n",
       "      <td>02/08/2024</td>\n",
       "    </tr>\n",
       "    <tr>\n",
       "      <th>1</th>\n",
       "      <td>€490</td>\n",
       "      <td>Scandinavian Airlines</td>\n",
       "      <td>7:00 AM5:50 PM</td>\n",
       "      <td>3:15 PM10:30 AM(02-09)</td>\n",
       "      <td>14h 15m 10h 40m</td>\n",
       "      <td>AMS to EWR EWR to AMS</td>\n",
       "      <td>CPH ARN</td>\n",
       "      <td>02/01/2024</td>\n",
       "      <td>02/08/2024</td>\n",
       "    </tr>\n",
       "    <tr>\n",
       "      <th>2</th>\n",
       "      <td>€490</td>\n",
       "      <td>Scandinavian Airlines</td>\n",
       "      <td>10:25 AM5:50 PM</td>\n",
       "      <td>3:15 PM10:30 AM(02-09)</td>\n",
       "      <td>10h 50m 10h 40m</td>\n",
       "      <td>AMS to EWR EWR to AMS</td>\n",
       "      <td>CPH ARN</td>\n",
       "      <td>02/01/2024</td>\n",
       "      <td>02/08/2024</td>\n",
       "    </tr>\n",
       "    <tr>\n",
       "      <th>3</th>\n",
       "      <td>€490</td>\n",
       "      <td>Scandinavian Airlines</td>\n",
       "      <td>2:55 PM5:50 PM</td>\n",
       "      <td>9:30 PM10:30 AM(02-09)</td>\n",
       "      <td>12h 35m 10h 40m</td>\n",
       "      <td>AMS to JFK EWR to AMS</td>\n",
       "      <td>CPH ARN</td>\n",
       "      <td>02/01/2024</td>\n",
       "      <td>02/08/2024</td>\n",
       "    </tr>\n",
       "    <tr>\n",
       "      <th>4</th>\n",
       "      <td>€490</td>\n",
       "      <td>Scandinavian Airlines</td>\n",
       "      <td>9:20 PM5:35 PM</td>\n",
       "      <td>1:35 PM(02-02)9:45 AM(02-09)</td>\n",
       "      <td>22h 15m 10h 10m</td>\n",
       "      <td>AMS to EWR EWR to AMS</td>\n",
       "      <td>ARN CPH</td>\n",
       "      <td>02/01/2024</td>\n",
       "      <td>02/08/2024</td>\n",
       "    </tr>\n",
       "  </tbody>\n",
       "</table>\n",
       "</div>"
      ],
      "text/plain": [
       "  price                carrier      depart_time  \\\n",
       "0  €481  Scandinavian Airlines   9:20 PM5:50 PM   \n",
       "1  €490  Scandinavian Airlines   7:00 AM5:50 PM   \n",
       "2  €490  Scandinavian Airlines  10:25 AM5:50 PM   \n",
       "3  €490  Scandinavian Airlines   2:55 PM5:50 PM   \n",
       "4  €490  Scandinavian Airlines   9:20 PM5:35 PM   \n",
       "\n",
       "                     arrive_time         duration                from_to  \\\n",
       "0  1:35 PM(02-02)10:30 AM(02-09)  22h 15m 10h 40m  AMS to EWR EWR to AMS   \n",
       "1         3:15 PM10:30 AM(02-09)  14h 15m 10h 40m  AMS to EWR EWR to AMS   \n",
       "2         3:15 PM10:30 AM(02-09)  10h 50m 10h 40m  AMS to EWR EWR to AMS   \n",
       "3         9:30 PM10:30 AM(02-09)  12h 35m 10h 40m  AMS to JFK EWR to AMS   \n",
       "4   1:35 PM(02-02)9:45 AM(02-09)  22h 15m 10h 10m  AMS to EWR EWR to AMS   \n",
       "\n",
       "     stops  start_date    end_date  \n",
       "0  ARN ARN  02/01/2024  02/08/2024  \n",
       "1  CPH ARN  02/01/2024  02/08/2024  \n",
       "2  CPH ARN  02/01/2024  02/08/2024  \n",
       "3  CPH ARN  02/01/2024  02/08/2024  \n",
       "4  ARN CPH  02/01/2024  02/08/2024  "
      ]
     },
     "execution_count": 9,
     "metadata": {},
     "output_type": "execute_result"
    }
   ],
   "source": [
    "new_column_names = [\"price\",\"carrier\",\"depart_time\",\"arrive_time\",\"duration\",\"from_to\",\"stops\",\"start_date\",\"end_date\"]\n",
    "data.columns = new_column_names\n",
    "data.head()"
   ]
  },
  {
   "cell_type": "markdown",
   "metadata": {},
   "source": [
    "We have a better looking dataframe with easier to understand names now. Time to get our hands dirty!"
   ]
  },
  {
   "cell_type": "markdown",
   "metadata": {},
   "source": [
    "## Cleaning the Dataframe"
   ]
  },
  {
   "cell_type": "markdown",
   "metadata": {},
   "source": [
    "We can start to clean the columns from left to right. So lets get rid of the currency symbols and any other character in the price column. For that lets have a look."
   ]
  },
  {
   "cell_type": "code",
   "execution_count": 10,
   "metadata": {},
   "outputs": [
    {
     "data": {
      "text/plain": [
       "price\n",
       "€560      504\n",
       "€555      487\n",
       "€648      425\n",
       "€566      420\n",
       "€587      376\n",
       "         ... \n",
       "€4,261      1\n",
       "€4,159      1\n",
       "€3,930      1\n",
       "€1,779      1\n",
       "€1,956      1\n",
       "Name: count, Length: 1692, dtype: int64"
      ]
     },
     "execution_count": 10,
     "metadata": {},
     "output_type": "execute_result"
    }
   ],
   "source": [
    "data[\"price\"].value_counts()"
   ]
  },
  {
   "cell_type": "markdown",
   "metadata": {},
   "source": [
    "It seems like we have more than currency symbols as a problem, we also have commas. We can clean our column from those unwanted characters with the following code."
   ]
  },
  {
   "cell_type": "code",
   "execution_count": 11,
   "metadata": {},
   "outputs": [],
   "source": [
    "data[\"price\"] = data[\"price\"].str.replace(\"€\",\"\").str.replace(\",\",\"\")"
   ]
  },
  {
   "cell_type": "markdown",
   "metadata": {},
   "source": [
    "Let's have a look at our transformed column."
   ]
  },
  {
   "cell_type": "code",
   "execution_count": 12,
   "metadata": {},
   "outputs": [
    {
     "data": {
      "text/plain": [
       "0         481\n",
       "1         490\n",
       "2         490\n",
       "3         490\n",
       "4         490\n",
       "         ... \n",
       "47778    1692\n",
       "47779    1692\n",
       "47780    1692\n",
       "47781    1692\n",
       "47782    5638\n",
       "Name: price, Length: 47783, dtype: object"
      ]
     },
     "execution_count": 12,
     "metadata": {},
     "output_type": "execute_result"
    }
   ],
   "source": [
    "data[\"price\"]"
   ]
  },
  {
   "cell_type": "markdown",
   "metadata": {},
   "source": [
    "Datatype seems to be incorrect, let's change it to integer since it makes more sense to have a numerical value to be stored as an integer."
   ]
  },
  {
   "cell_type": "code",
   "execution_count": 13,
   "metadata": {},
   "outputs": [
    {
     "data": {
      "text/plain": [
       "0         481\n",
       "1         490\n",
       "2         490\n",
       "3         490\n",
       "4         490\n",
       "         ... \n",
       "47778    1692\n",
       "47779    1692\n",
       "47780    1692\n",
       "47781    1692\n",
       "47782    5638\n",
       "Name: price, Length: 47783, dtype: int64"
      ]
     },
     "execution_count": 13,
     "metadata": {},
     "output_type": "execute_result"
    }
   ],
   "source": [
    "data[\"price\"] = data[\"price\"].astype(int)\n",
    "data[\"price\"]"
   ]
  },
  {
   "cell_type": "markdown",
   "metadata": {},
   "source": [
    "Looks like we are done with the price column for now. Lets continue with the remaining columns."
   ]
  },
  {
   "cell_type": "markdown",
   "metadata": {},
   "source": [
    "Stop locations does not add too much value to this dataframe, we can use total stops as a numerical value. For example \"CDG CDG\" represents total of two stops for a roundtrip ticket. So it should return 2 as in number, a non-stop flight should return 0. Let's write the code that does the thing. First we will convert that to a list then we will count the items in that list to get the total stops.\n",
    "\n",
    "Here we split the stops column on a blank space to convert that string to a list of strings."
   ]
  },
  {
   "cell_type": "code",
   "execution_count": 14,
   "metadata": {},
   "outputs": [],
   "source": [
    "data[\"stops_list\"] = data[\"stops\"].str.split()"
   ]
  },
  {
   "cell_type": "code",
   "execution_count": 15,
   "metadata": {},
   "outputs": [
    {
     "data": {
      "text/html": [
       "<div>\n",
       "<style scoped>\n",
       "    .dataframe tbody tr th:only-of-type {\n",
       "        vertical-align: middle;\n",
       "    }\n",
       "\n",
       "    .dataframe tbody tr th {\n",
       "        vertical-align: top;\n",
       "    }\n",
       "\n",
       "    .dataframe thead th {\n",
       "        text-align: right;\n",
       "    }\n",
       "</style>\n",
       "<table border=\"1\" class=\"dataframe\">\n",
       "  <thead>\n",
       "    <tr style=\"text-align: right;\">\n",
       "      <th></th>\n",
       "      <th>price</th>\n",
       "      <th>carrier</th>\n",
       "      <th>depart_time</th>\n",
       "      <th>arrive_time</th>\n",
       "      <th>duration</th>\n",
       "      <th>from_to</th>\n",
       "      <th>stops</th>\n",
       "      <th>start_date</th>\n",
       "      <th>end_date</th>\n",
       "      <th>stops_list</th>\n",
       "    </tr>\n",
       "  </thead>\n",
       "  <tbody>\n",
       "    <tr>\n",
       "      <th>0</th>\n",
       "      <td>481</td>\n",
       "      <td>Scandinavian Airlines</td>\n",
       "      <td>9:20 PM5:50 PM</td>\n",
       "      <td>1:35 PM(02-02)10:30 AM(02-09)</td>\n",
       "      <td>22h 15m 10h 40m</td>\n",
       "      <td>AMS to EWR EWR to AMS</td>\n",
       "      <td>ARN ARN</td>\n",
       "      <td>02/01/2024</td>\n",
       "      <td>02/08/2024</td>\n",
       "      <td>[ARN, ARN]</td>\n",
       "    </tr>\n",
       "    <tr>\n",
       "      <th>1</th>\n",
       "      <td>490</td>\n",
       "      <td>Scandinavian Airlines</td>\n",
       "      <td>7:00 AM5:50 PM</td>\n",
       "      <td>3:15 PM10:30 AM(02-09)</td>\n",
       "      <td>14h 15m 10h 40m</td>\n",
       "      <td>AMS to EWR EWR to AMS</td>\n",
       "      <td>CPH ARN</td>\n",
       "      <td>02/01/2024</td>\n",
       "      <td>02/08/2024</td>\n",
       "      <td>[CPH, ARN]</td>\n",
       "    </tr>\n",
       "    <tr>\n",
       "      <th>2</th>\n",
       "      <td>490</td>\n",
       "      <td>Scandinavian Airlines</td>\n",
       "      <td>10:25 AM5:50 PM</td>\n",
       "      <td>3:15 PM10:30 AM(02-09)</td>\n",
       "      <td>10h 50m 10h 40m</td>\n",
       "      <td>AMS to EWR EWR to AMS</td>\n",
       "      <td>CPH ARN</td>\n",
       "      <td>02/01/2024</td>\n",
       "      <td>02/08/2024</td>\n",
       "      <td>[CPH, ARN]</td>\n",
       "    </tr>\n",
       "    <tr>\n",
       "      <th>3</th>\n",
       "      <td>490</td>\n",
       "      <td>Scandinavian Airlines</td>\n",
       "      <td>2:55 PM5:50 PM</td>\n",
       "      <td>9:30 PM10:30 AM(02-09)</td>\n",
       "      <td>12h 35m 10h 40m</td>\n",
       "      <td>AMS to JFK EWR to AMS</td>\n",
       "      <td>CPH ARN</td>\n",
       "      <td>02/01/2024</td>\n",
       "      <td>02/08/2024</td>\n",
       "      <td>[CPH, ARN]</td>\n",
       "    </tr>\n",
       "    <tr>\n",
       "      <th>4</th>\n",
       "      <td>490</td>\n",
       "      <td>Scandinavian Airlines</td>\n",
       "      <td>9:20 PM5:35 PM</td>\n",
       "      <td>1:35 PM(02-02)9:45 AM(02-09)</td>\n",
       "      <td>22h 15m 10h 10m</td>\n",
       "      <td>AMS to EWR EWR to AMS</td>\n",
       "      <td>ARN CPH</td>\n",
       "      <td>02/01/2024</td>\n",
       "      <td>02/08/2024</td>\n",
       "      <td>[ARN, CPH]</td>\n",
       "    </tr>\n",
       "  </tbody>\n",
       "</table>\n",
       "</div>"
      ],
      "text/plain": [
       "   price                carrier      depart_time  \\\n",
       "0    481  Scandinavian Airlines   9:20 PM5:50 PM   \n",
       "1    490  Scandinavian Airlines   7:00 AM5:50 PM   \n",
       "2    490  Scandinavian Airlines  10:25 AM5:50 PM   \n",
       "3    490  Scandinavian Airlines   2:55 PM5:50 PM   \n",
       "4    490  Scandinavian Airlines   9:20 PM5:35 PM   \n",
       "\n",
       "                     arrive_time         duration                from_to  \\\n",
       "0  1:35 PM(02-02)10:30 AM(02-09)  22h 15m 10h 40m  AMS to EWR EWR to AMS   \n",
       "1         3:15 PM10:30 AM(02-09)  14h 15m 10h 40m  AMS to EWR EWR to AMS   \n",
       "2         3:15 PM10:30 AM(02-09)  10h 50m 10h 40m  AMS to EWR EWR to AMS   \n",
       "3         9:30 PM10:30 AM(02-09)  12h 35m 10h 40m  AMS to JFK EWR to AMS   \n",
       "4   1:35 PM(02-02)9:45 AM(02-09)  22h 15m 10h 10m  AMS to EWR EWR to AMS   \n",
       "\n",
       "     stops  start_date    end_date  stops_list  \n",
       "0  ARN ARN  02/01/2024  02/08/2024  [ARN, ARN]  \n",
       "1  CPH ARN  02/01/2024  02/08/2024  [CPH, ARN]  \n",
       "2  CPH ARN  02/01/2024  02/08/2024  [CPH, ARN]  \n",
       "3  CPH ARN  02/01/2024  02/08/2024  [CPH, ARN]  \n",
       "4  ARN CPH  02/01/2024  02/08/2024  [ARN, CPH]  "
      ]
     },
     "execution_count": 15,
     "metadata": {},
     "output_type": "execute_result"
    }
   ],
   "source": [
    "data.head()"
   ]
  },
  {
   "cell_type": "markdown",
   "metadata": {},
   "source": [
    "After that we need a function to return the count of the items in a list. Following code should do the trick."
   ]
  },
  {
   "cell_type": "code",
   "execution_count": 16,
   "metadata": {},
   "outputs": [],
   "source": [
    "def count_stops(row):\n",
    "    #This function will be used in apply method. \n",
    "    # We use if/else conditions to check if the type of that \"cell\" is a list or not. \n",
    "    # If it is a list it means split method successfully seperated the entire column on a space, if not it still is a Nan. \n",
    "    # So we can check if the \"cell\" contains a list, and if so we can count the items within that list and return it as a stops count.\n",
    "    \n",
    "    if type(row[\"stops_list\"]) == list:\n",
    "        total_stops=len(row[\"stops_list\"])\n",
    "    else:\n",
    "        total_stops = 0\n",
    "    return total_stops"
   ]
  },
  {
   "cell_type": "code",
   "execution_count": 17,
   "metadata": {},
   "outputs": [],
   "source": [
    "data[\"total_stops\"] = data.apply(count_stops,axis=1)"
   ]
  },
  {
   "cell_type": "markdown",
   "metadata": {},
   "source": [
    "After applying the function to the column thanks to Pandas built-in apply function, we can have a look at what we have in hand."
   ]
  },
  {
   "cell_type": "code",
   "execution_count": 18,
   "metadata": {},
   "outputs": [
    {
     "data": {
      "text/html": [
       "<div>\n",
       "<style scoped>\n",
       "    .dataframe tbody tr th:only-of-type {\n",
       "        vertical-align: middle;\n",
       "    }\n",
       "\n",
       "    .dataframe tbody tr th {\n",
       "        vertical-align: top;\n",
       "    }\n",
       "\n",
       "    .dataframe thead th {\n",
       "        text-align: right;\n",
       "    }\n",
       "</style>\n",
       "<table border=\"1\" class=\"dataframe\">\n",
       "  <thead>\n",
       "    <tr style=\"text-align: right;\">\n",
       "      <th></th>\n",
       "      <th>price</th>\n",
       "      <th>carrier</th>\n",
       "      <th>depart_time</th>\n",
       "      <th>arrive_time</th>\n",
       "      <th>duration</th>\n",
       "      <th>from_to</th>\n",
       "      <th>stops</th>\n",
       "      <th>start_date</th>\n",
       "      <th>end_date</th>\n",
       "      <th>stops_list</th>\n",
       "      <th>total_stops</th>\n",
       "    </tr>\n",
       "  </thead>\n",
       "  <tbody>\n",
       "    <tr>\n",
       "      <th>0</th>\n",
       "      <td>481</td>\n",
       "      <td>Scandinavian Airlines</td>\n",
       "      <td>9:20 PM5:50 PM</td>\n",
       "      <td>1:35 PM(02-02)10:30 AM(02-09)</td>\n",
       "      <td>22h 15m 10h 40m</td>\n",
       "      <td>AMS to EWR EWR to AMS</td>\n",
       "      <td>ARN ARN</td>\n",
       "      <td>02/01/2024</td>\n",
       "      <td>02/08/2024</td>\n",
       "      <td>[ARN, ARN]</td>\n",
       "      <td>2</td>\n",
       "    </tr>\n",
       "    <tr>\n",
       "      <th>1</th>\n",
       "      <td>490</td>\n",
       "      <td>Scandinavian Airlines</td>\n",
       "      <td>7:00 AM5:50 PM</td>\n",
       "      <td>3:15 PM10:30 AM(02-09)</td>\n",
       "      <td>14h 15m 10h 40m</td>\n",
       "      <td>AMS to EWR EWR to AMS</td>\n",
       "      <td>CPH ARN</td>\n",
       "      <td>02/01/2024</td>\n",
       "      <td>02/08/2024</td>\n",
       "      <td>[CPH, ARN]</td>\n",
       "      <td>2</td>\n",
       "    </tr>\n",
       "    <tr>\n",
       "      <th>2</th>\n",
       "      <td>490</td>\n",
       "      <td>Scandinavian Airlines</td>\n",
       "      <td>10:25 AM5:50 PM</td>\n",
       "      <td>3:15 PM10:30 AM(02-09)</td>\n",
       "      <td>10h 50m 10h 40m</td>\n",
       "      <td>AMS to EWR EWR to AMS</td>\n",
       "      <td>CPH ARN</td>\n",
       "      <td>02/01/2024</td>\n",
       "      <td>02/08/2024</td>\n",
       "      <td>[CPH, ARN]</td>\n",
       "      <td>2</td>\n",
       "    </tr>\n",
       "    <tr>\n",
       "      <th>3</th>\n",
       "      <td>490</td>\n",
       "      <td>Scandinavian Airlines</td>\n",
       "      <td>2:55 PM5:50 PM</td>\n",
       "      <td>9:30 PM10:30 AM(02-09)</td>\n",
       "      <td>12h 35m 10h 40m</td>\n",
       "      <td>AMS to JFK EWR to AMS</td>\n",
       "      <td>CPH ARN</td>\n",
       "      <td>02/01/2024</td>\n",
       "      <td>02/08/2024</td>\n",
       "      <td>[CPH, ARN]</td>\n",
       "      <td>2</td>\n",
       "    </tr>\n",
       "    <tr>\n",
       "      <th>4</th>\n",
       "      <td>490</td>\n",
       "      <td>Scandinavian Airlines</td>\n",
       "      <td>9:20 PM5:35 PM</td>\n",
       "      <td>1:35 PM(02-02)9:45 AM(02-09)</td>\n",
       "      <td>22h 15m 10h 10m</td>\n",
       "      <td>AMS to EWR EWR to AMS</td>\n",
       "      <td>ARN CPH</td>\n",
       "      <td>02/01/2024</td>\n",
       "      <td>02/08/2024</td>\n",
       "      <td>[ARN, CPH]</td>\n",
       "      <td>2</td>\n",
       "    </tr>\n",
       "  </tbody>\n",
       "</table>\n",
       "</div>"
      ],
      "text/plain": [
       "   price                carrier      depart_time  \\\n",
       "0    481  Scandinavian Airlines   9:20 PM5:50 PM   \n",
       "1    490  Scandinavian Airlines   7:00 AM5:50 PM   \n",
       "2    490  Scandinavian Airlines  10:25 AM5:50 PM   \n",
       "3    490  Scandinavian Airlines   2:55 PM5:50 PM   \n",
       "4    490  Scandinavian Airlines   9:20 PM5:35 PM   \n",
       "\n",
       "                     arrive_time         duration                from_to  \\\n",
       "0  1:35 PM(02-02)10:30 AM(02-09)  22h 15m 10h 40m  AMS to EWR EWR to AMS   \n",
       "1         3:15 PM10:30 AM(02-09)  14h 15m 10h 40m  AMS to EWR EWR to AMS   \n",
       "2         3:15 PM10:30 AM(02-09)  10h 50m 10h 40m  AMS to EWR EWR to AMS   \n",
       "3         9:30 PM10:30 AM(02-09)  12h 35m 10h 40m  AMS to JFK EWR to AMS   \n",
       "4   1:35 PM(02-02)9:45 AM(02-09)  22h 15m 10h 10m  AMS to EWR EWR to AMS   \n",
       "\n",
       "     stops  start_date    end_date  stops_list  total_stops  \n",
       "0  ARN ARN  02/01/2024  02/08/2024  [ARN, ARN]            2  \n",
       "1  CPH ARN  02/01/2024  02/08/2024  [CPH, ARN]            2  \n",
       "2  CPH ARN  02/01/2024  02/08/2024  [CPH, ARN]            2  \n",
       "3  CPH ARN  02/01/2024  02/08/2024  [CPH, ARN]            2  \n",
       "4  ARN CPH  02/01/2024  02/08/2024  [ARN, CPH]            2  "
      ]
     },
     "execution_count": 18,
     "metadata": {},
     "output_type": "execute_result"
    }
   ],
   "source": [
    "data.head()"
   ]
  },
  {
   "cell_type": "markdown",
   "metadata": {},
   "source": [
    "That looks more like it! Now let's get rid of \"stops\" and \"stops_list\" columns, since they are not needed anymore. \n",
    "Also as mentioned before we will not use \"arrive_time\" column.\n",
    "We can remove that aswell."
   ]
  },
  {
   "cell_type": "code",
   "execution_count": 19,
   "metadata": {},
   "outputs": [],
   "source": [
    "data.drop([\"arrive_time\",\"stops\",\"stops_list\"],axis=1,inplace=True)"
   ]
  },
  {
   "cell_type": "code",
   "execution_count": 20,
   "metadata": {},
   "outputs": [
    {
     "data": {
      "text/html": [
       "<div>\n",
       "<style scoped>\n",
       "    .dataframe tbody tr th:only-of-type {\n",
       "        vertical-align: middle;\n",
       "    }\n",
       "\n",
       "    .dataframe tbody tr th {\n",
       "        vertical-align: top;\n",
       "    }\n",
       "\n",
       "    .dataframe thead th {\n",
       "        text-align: right;\n",
       "    }\n",
       "</style>\n",
       "<table border=\"1\" class=\"dataframe\">\n",
       "  <thead>\n",
       "    <tr style=\"text-align: right;\">\n",
       "      <th></th>\n",
       "      <th>price</th>\n",
       "      <th>carrier</th>\n",
       "      <th>depart_time</th>\n",
       "      <th>duration</th>\n",
       "      <th>from_to</th>\n",
       "      <th>start_date</th>\n",
       "      <th>end_date</th>\n",
       "      <th>total_stops</th>\n",
       "    </tr>\n",
       "  </thead>\n",
       "  <tbody>\n",
       "    <tr>\n",
       "      <th>0</th>\n",
       "      <td>481</td>\n",
       "      <td>Scandinavian Airlines</td>\n",
       "      <td>9:20 PM5:50 PM</td>\n",
       "      <td>22h 15m 10h 40m</td>\n",
       "      <td>AMS to EWR EWR to AMS</td>\n",
       "      <td>02/01/2024</td>\n",
       "      <td>02/08/2024</td>\n",
       "      <td>2</td>\n",
       "    </tr>\n",
       "    <tr>\n",
       "      <th>1</th>\n",
       "      <td>490</td>\n",
       "      <td>Scandinavian Airlines</td>\n",
       "      <td>7:00 AM5:50 PM</td>\n",
       "      <td>14h 15m 10h 40m</td>\n",
       "      <td>AMS to EWR EWR to AMS</td>\n",
       "      <td>02/01/2024</td>\n",
       "      <td>02/08/2024</td>\n",
       "      <td>2</td>\n",
       "    </tr>\n",
       "    <tr>\n",
       "      <th>2</th>\n",
       "      <td>490</td>\n",
       "      <td>Scandinavian Airlines</td>\n",
       "      <td>10:25 AM5:50 PM</td>\n",
       "      <td>10h 50m 10h 40m</td>\n",
       "      <td>AMS to EWR EWR to AMS</td>\n",
       "      <td>02/01/2024</td>\n",
       "      <td>02/08/2024</td>\n",
       "      <td>2</td>\n",
       "    </tr>\n",
       "    <tr>\n",
       "      <th>3</th>\n",
       "      <td>490</td>\n",
       "      <td>Scandinavian Airlines</td>\n",
       "      <td>2:55 PM5:50 PM</td>\n",
       "      <td>12h 35m 10h 40m</td>\n",
       "      <td>AMS to JFK EWR to AMS</td>\n",
       "      <td>02/01/2024</td>\n",
       "      <td>02/08/2024</td>\n",
       "      <td>2</td>\n",
       "    </tr>\n",
       "    <tr>\n",
       "      <th>4</th>\n",
       "      <td>490</td>\n",
       "      <td>Scandinavian Airlines</td>\n",
       "      <td>9:20 PM5:35 PM</td>\n",
       "      <td>22h 15m 10h 10m</td>\n",
       "      <td>AMS to EWR EWR to AMS</td>\n",
       "      <td>02/01/2024</td>\n",
       "      <td>02/08/2024</td>\n",
       "      <td>2</td>\n",
       "    </tr>\n",
       "  </tbody>\n",
       "</table>\n",
       "</div>"
      ],
      "text/plain": [
       "   price                carrier      depart_time         duration  \\\n",
       "0    481  Scandinavian Airlines   9:20 PM5:50 PM  22h 15m 10h 40m   \n",
       "1    490  Scandinavian Airlines   7:00 AM5:50 PM  14h 15m 10h 40m   \n",
       "2    490  Scandinavian Airlines  10:25 AM5:50 PM  10h 50m 10h 40m   \n",
       "3    490  Scandinavian Airlines   2:55 PM5:50 PM  12h 35m 10h 40m   \n",
       "4    490  Scandinavian Airlines   9:20 PM5:35 PM  22h 15m 10h 10m   \n",
       "\n",
       "                 from_to  start_date    end_date  total_stops  \n",
       "0  AMS to EWR EWR to AMS  02/01/2024  02/08/2024            2  \n",
       "1  AMS to EWR EWR to AMS  02/01/2024  02/08/2024            2  \n",
       "2  AMS to EWR EWR to AMS  02/01/2024  02/08/2024            2  \n",
       "3  AMS to JFK EWR to AMS  02/01/2024  02/08/2024            2  \n",
       "4  AMS to EWR EWR to AMS  02/01/2024  02/08/2024            2  "
      ]
     },
     "execution_count": 20,
     "metadata": {},
     "output_type": "execute_result"
    }
   ],
   "source": [
    "data.head()"
   ]
  },
  {
   "cell_type": "markdown",
   "metadata": {},
   "source": [
    "As can be seen from the dataframe above, each \"cell\" contains both outbound flight and inbound flight data, such as depart_time, arrive_time,duration columns. \n",
    "We need to seperate them in different columns."
   ]
  },
  {
   "cell_type": "markdown",
   "metadata": {},
   "source": [
    "Now let's extract the times and durations from \"depart_time\" and \"duration\" columns for outbound and inbound flights. We will use RegEx to do so."
   ]
  },
  {
   "cell_type": "code",
   "execution_count": 21,
   "metadata": {},
   "outputs": [
    {
     "data": {
      "text/html": [
       "<div>\n",
       "<style scoped>\n",
       "    .dataframe tbody tr th:only-of-type {\n",
       "        vertical-align: middle;\n",
       "    }\n",
       "\n",
       "    .dataframe tbody tr th {\n",
       "        vertical-align: top;\n",
       "    }\n",
       "\n",
       "    .dataframe thead th {\n",
       "        text-align: right;\n",
       "    }\n",
       "</style>\n",
       "<table border=\"1\" class=\"dataframe\">\n",
       "  <thead>\n",
       "    <tr style=\"text-align: right;\">\n",
       "      <th></th>\n",
       "      <th>0</th>\n",
       "      <th>1</th>\n",
       "    </tr>\n",
       "  </thead>\n",
       "  <tbody>\n",
       "    <tr>\n",
       "      <th>0</th>\n",
       "      <td>9:20 PM</td>\n",
       "      <td>5:50 PM</td>\n",
       "    </tr>\n",
       "    <tr>\n",
       "      <th>1</th>\n",
       "      <td>7:00 AM</td>\n",
       "      <td>5:50 PM</td>\n",
       "    </tr>\n",
       "    <tr>\n",
       "      <th>2</th>\n",
       "      <td>10:25 AM</td>\n",
       "      <td>5:50 PM</td>\n",
       "    </tr>\n",
       "    <tr>\n",
       "      <th>3</th>\n",
       "      <td>2:55 PM</td>\n",
       "      <td>5:50 PM</td>\n",
       "    </tr>\n",
       "    <tr>\n",
       "      <th>4</th>\n",
       "      <td>9:20 PM</td>\n",
       "      <td>5:35 PM</td>\n",
       "    </tr>\n",
       "  </tbody>\n",
       "</table>\n",
       "</div>"
      ],
      "text/plain": [
       "          0        1\n",
       "0   9:20 PM  5:50 PM\n",
       "1   7:00 AM  5:50 PM\n",
       "2  10:25 AM  5:50 PM\n",
       "3   2:55 PM  5:50 PM\n",
       "4   9:20 PM  5:35 PM"
      ]
     },
     "execution_count": 21,
     "metadata": {},
     "output_type": "execute_result"
    }
   ],
   "source": [
    "#This will return a dataframe with no column names.\n",
    "depart = data[\"depart_time\"].str.extract(r\"(\\d+:\\d+ [APM]+)(\\d+:\\d+ [APM]+)\")\n",
    "depart.head()"
   ]
  },
  {
   "cell_type": "markdown",
   "metadata": {},
   "source": [
    "Now lets give columns new names."
   ]
  },
  {
   "cell_type": "code",
   "execution_count": 22,
   "metadata": {},
   "outputs": [],
   "source": [
    "depart_column_names = [\"dep_time_outbound\",\"dep_time_inbound\"]\n",
    "depart.columns = depart_column_names"
   ]
  },
  {
   "cell_type": "markdown",
   "metadata": {},
   "source": [
    "Now let's get these dataframes together and get rid of \"depart_time\" column."
   ]
  },
  {
   "cell_type": "code",
   "execution_count": 23,
   "metadata": {},
   "outputs": [],
   "source": [
    "data.drop(\"depart_time\",axis=1,inplace=True)"
   ]
  },
  {
   "cell_type": "code",
   "execution_count": 24,
   "metadata": {},
   "outputs": [],
   "source": [
    "data = pd.concat([data,depart],axis=1)"
   ]
  },
  {
   "cell_type": "markdown",
   "metadata": {},
   "source": [
    "Same thing can be done for durations."
   ]
  },
  {
   "cell_type": "code",
   "execution_count": 25,
   "metadata": {},
   "outputs": [
    {
     "data": {
      "text/html": [
       "<div>\n",
       "<style scoped>\n",
       "    .dataframe tbody tr th:only-of-type {\n",
       "        vertical-align: middle;\n",
       "    }\n",
       "\n",
       "    .dataframe tbody tr th {\n",
       "        vertical-align: top;\n",
       "    }\n",
       "\n",
       "    .dataframe thead th {\n",
       "        text-align: right;\n",
       "    }\n",
       "</style>\n",
       "<table border=\"1\" class=\"dataframe\">\n",
       "  <thead>\n",
       "    <tr style=\"text-align: right;\">\n",
       "      <th></th>\n",
       "      <th>0</th>\n",
       "      <th>1</th>\n",
       "    </tr>\n",
       "  </thead>\n",
       "  <tbody>\n",
       "    <tr>\n",
       "      <th>0</th>\n",
       "      <td>22h 15m</td>\n",
       "      <td>10h 40m</td>\n",
       "    </tr>\n",
       "    <tr>\n",
       "      <th>1</th>\n",
       "      <td>14h 15m</td>\n",
       "      <td>10h 40m</td>\n",
       "    </tr>\n",
       "    <tr>\n",
       "      <th>2</th>\n",
       "      <td>10h 50m</td>\n",
       "      <td>10h 40m</td>\n",
       "    </tr>\n",
       "    <tr>\n",
       "      <th>3</th>\n",
       "      <td>12h 35m</td>\n",
       "      <td>10h 40m</td>\n",
       "    </tr>\n",
       "    <tr>\n",
       "      <th>4</th>\n",
       "      <td>22h 15m</td>\n",
       "      <td>10h 10m</td>\n",
       "    </tr>\n",
       "  </tbody>\n",
       "</table>\n",
       "</div>"
      ],
      "text/plain": [
       "         0         1\n",
       "0  22h 15m   10h 40m\n",
       "1  14h 15m   10h 40m\n",
       "2  10h 50m   10h 40m\n",
       "3  12h 35m   10h 40m\n",
       "4  22h 15m   10h 10m"
      ]
     },
     "execution_count": 25,
     "metadata": {},
     "output_type": "execute_result"
    }
   ],
   "source": [
    "durations = data[\"duration\"].str.extract(r\"(\\d+[h] \\d+[m])( \\d+[h] \\d+[m])\")\n",
    "durations.head()"
   ]
  },
  {
   "cell_type": "markdown",
   "metadata": {},
   "source": [
    "Renaming the columns."
   ]
  },
  {
   "cell_type": "code",
   "execution_count": 26,
   "metadata": {},
   "outputs": [],
   "source": [
    "durations_column_names = [\"duration_outbound\",\"duration_inbound\"]\n",
    "durations.columns = durations_column_names"
   ]
  },
  {
   "cell_type": "markdown",
   "metadata": {},
   "source": [
    "Dropping column and concatenating with the main dataframe."
   ]
  },
  {
   "cell_type": "code",
   "execution_count": 27,
   "metadata": {},
   "outputs": [],
   "source": [
    "data.drop(\"duration\",axis=1,inplace=True)"
   ]
  },
  {
   "cell_type": "code",
   "execution_count": 28,
   "metadata": {},
   "outputs": [],
   "source": [
    "data = pd.concat([data,durations],axis=1)"
   ]
  },
  {
   "cell_type": "markdown",
   "metadata": {},
   "source": [
    "We have done so many operations. Why dont we have another look at our dataframe?"
   ]
  },
  {
   "cell_type": "code",
   "execution_count": 29,
   "metadata": {},
   "outputs": [
    {
     "data": {
      "text/html": [
       "<div>\n",
       "<style scoped>\n",
       "    .dataframe tbody tr th:only-of-type {\n",
       "        vertical-align: middle;\n",
       "    }\n",
       "\n",
       "    .dataframe tbody tr th {\n",
       "        vertical-align: top;\n",
       "    }\n",
       "\n",
       "    .dataframe thead th {\n",
       "        text-align: right;\n",
       "    }\n",
       "</style>\n",
       "<table border=\"1\" class=\"dataframe\">\n",
       "  <thead>\n",
       "    <tr style=\"text-align: right;\">\n",
       "      <th></th>\n",
       "      <th>price</th>\n",
       "      <th>carrier</th>\n",
       "      <th>from_to</th>\n",
       "      <th>start_date</th>\n",
       "      <th>end_date</th>\n",
       "      <th>total_stops</th>\n",
       "      <th>dep_time_outbound</th>\n",
       "      <th>dep_time_inbound</th>\n",
       "      <th>duration_outbound</th>\n",
       "      <th>duration_inbound</th>\n",
       "    </tr>\n",
       "  </thead>\n",
       "  <tbody>\n",
       "    <tr>\n",
       "      <th>0</th>\n",
       "      <td>481</td>\n",
       "      <td>Scandinavian Airlines</td>\n",
       "      <td>AMS to EWR EWR to AMS</td>\n",
       "      <td>02/01/2024</td>\n",
       "      <td>02/08/2024</td>\n",
       "      <td>2</td>\n",
       "      <td>9:20 PM</td>\n",
       "      <td>5:50 PM</td>\n",
       "      <td>22h 15m</td>\n",
       "      <td>10h 40m</td>\n",
       "    </tr>\n",
       "    <tr>\n",
       "      <th>1</th>\n",
       "      <td>490</td>\n",
       "      <td>Scandinavian Airlines</td>\n",
       "      <td>AMS to EWR EWR to AMS</td>\n",
       "      <td>02/01/2024</td>\n",
       "      <td>02/08/2024</td>\n",
       "      <td>2</td>\n",
       "      <td>7:00 AM</td>\n",
       "      <td>5:50 PM</td>\n",
       "      <td>14h 15m</td>\n",
       "      <td>10h 40m</td>\n",
       "    </tr>\n",
       "    <tr>\n",
       "      <th>2</th>\n",
       "      <td>490</td>\n",
       "      <td>Scandinavian Airlines</td>\n",
       "      <td>AMS to EWR EWR to AMS</td>\n",
       "      <td>02/01/2024</td>\n",
       "      <td>02/08/2024</td>\n",
       "      <td>2</td>\n",
       "      <td>10:25 AM</td>\n",
       "      <td>5:50 PM</td>\n",
       "      <td>10h 50m</td>\n",
       "      <td>10h 40m</td>\n",
       "    </tr>\n",
       "    <tr>\n",
       "      <th>3</th>\n",
       "      <td>490</td>\n",
       "      <td>Scandinavian Airlines</td>\n",
       "      <td>AMS to JFK EWR to AMS</td>\n",
       "      <td>02/01/2024</td>\n",
       "      <td>02/08/2024</td>\n",
       "      <td>2</td>\n",
       "      <td>2:55 PM</td>\n",
       "      <td>5:50 PM</td>\n",
       "      <td>12h 35m</td>\n",
       "      <td>10h 40m</td>\n",
       "    </tr>\n",
       "    <tr>\n",
       "      <th>4</th>\n",
       "      <td>490</td>\n",
       "      <td>Scandinavian Airlines</td>\n",
       "      <td>AMS to EWR EWR to AMS</td>\n",
       "      <td>02/01/2024</td>\n",
       "      <td>02/08/2024</td>\n",
       "      <td>2</td>\n",
       "      <td>9:20 PM</td>\n",
       "      <td>5:35 PM</td>\n",
       "      <td>22h 15m</td>\n",
       "      <td>10h 10m</td>\n",
       "    </tr>\n",
       "  </tbody>\n",
       "</table>\n",
       "</div>"
      ],
      "text/plain": [
       "   price                carrier                from_to  start_date  \\\n",
       "0    481  Scandinavian Airlines  AMS to EWR EWR to AMS  02/01/2024   \n",
       "1    490  Scandinavian Airlines  AMS to EWR EWR to AMS  02/01/2024   \n",
       "2    490  Scandinavian Airlines  AMS to EWR EWR to AMS  02/01/2024   \n",
       "3    490  Scandinavian Airlines  AMS to JFK EWR to AMS  02/01/2024   \n",
       "4    490  Scandinavian Airlines  AMS to EWR EWR to AMS  02/01/2024   \n",
       "\n",
       "     end_date  total_stops dep_time_outbound dep_time_inbound  \\\n",
       "0  02/08/2024            2           9:20 PM          5:50 PM   \n",
       "1  02/08/2024            2           7:00 AM          5:50 PM   \n",
       "2  02/08/2024            2          10:25 AM          5:50 PM   \n",
       "3  02/08/2024            2           2:55 PM          5:50 PM   \n",
       "4  02/08/2024            2           9:20 PM          5:35 PM   \n",
       "\n",
       "  duration_outbound duration_inbound  \n",
       "0           22h 15m          10h 40m  \n",
       "1           14h 15m          10h 40m  \n",
       "2           10h 50m          10h 40m  \n",
       "3           12h 35m          10h 40m  \n",
       "4           22h 15m          10h 10m  "
      ]
     },
     "execution_count": 29,
     "metadata": {},
     "output_type": "execute_result"
    }
   ],
   "source": [
    "data.head()"
   ]
  },
  {
   "cell_type": "markdown",
   "metadata": {},
   "source": [
    "There is not much left to do here, we will seperate the values in \"from_to\" column to \"from\" and \"to\" columns."
   ]
  },
  {
   "cell_type": "code",
   "execution_count": 30,
   "metadata": {},
   "outputs": [
    {
     "data": {
      "text/html": [
       "<div>\n",
       "<style scoped>\n",
       "    .dataframe tbody tr th:only-of-type {\n",
       "        vertical-align: middle;\n",
       "    }\n",
       "\n",
       "    .dataframe tbody tr th {\n",
       "        vertical-align: top;\n",
       "    }\n",
       "\n",
       "    .dataframe thead th {\n",
       "        text-align: right;\n",
       "    }\n",
       "</style>\n",
       "<table border=\"1\" class=\"dataframe\">\n",
       "  <thead>\n",
       "    <tr style=\"text-align: right;\">\n",
       "      <th></th>\n",
       "      <th>0</th>\n",
       "      <th>1</th>\n",
       "    </tr>\n",
       "  </thead>\n",
       "  <tbody>\n",
       "    <tr>\n",
       "      <th>0</th>\n",
       "      <td>AMS</td>\n",
       "      <td>EWR</td>\n",
       "    </tr>\n",
       "    <tr>\n",
       "      <th>1</th>\n",
       "      <td>AMS</td>\n",
       "      <td>EWR</td>\n",
       "    </tr>\n",
       "    <tr>\n",
       "      <th>2</th>\n",
       "      <td>AMS</td>\n",
       "      <td>EWR</td>\n",
       "    </tr>\n",
       "    <tr>\n",
       "      <th>3</th>\n",
       "      <td>AMS</td>\n",
       "      <td>JFK</td>\n",
       "    </tr>\n",
       "    <tr>\n",
       "      <th>4</th>\n",
       "      <td>AMS</td>\n",
       "      <td>EWR</td>\n",
       "    </tr>\n",
       "  </tbody>\n",
       "</table>\n",
       "</div>"
      ],
      "text/plain": [
       "     0    1\n",
       "0  AMS  EWR\n",
       "1  AMS  EWR\n",
       "2  AMS  EWR\n",
       "3  AMS  JFK\n",
       "4  AMS  EWR"
      ]
     },
     "execution_count": 30,
     "metadata": {},
     "output_type": "execute_result"
    }
   ],
   "source": [
    "from_to =data[\"from_to\"].str.extract(r'([A-Z][A-Z]+) to ([A-Z][A-Z]+)')\n",
    "from_to.head()"
   ]
  },
  {
   "cell_type": "markdown",
   "metadata": {},
   "source": [
    "Once again we rename the columns."
   ]
  },
  {
   "cell_type": "code",
   "execution_count": 31,
   "metadata": {},
   "outputs": [],
   "source": [
    "from_to_column_names =  [\"from\",\"to\"]\n",
    "from_to.columns = from_to_column_names"
   ]
  },
  {
   "cell_type": "markdown",
   "metadata": {},
   "source": [
    "We concatenate with the main dataframe, and drop the old column."
   ]
  },
  {
   "cell_type": "code",
   "execution_count": 32,
   "metadata": {},
   "outputs": [],
   "source": [
    "data = pd.concat([data,from_to],axis=1)"
   ]
  },
  {
   "cell_type": "code",
   "execution_count": 33,
   "metadata": {},
   "outputs": [],
   "source": [
    "data.drop(\"from_to\",axis=1,inplace=True)"
   ]
  },
  {
   "cell_type": "markdown",
   "metadata": {},
   "source": [
    "#### Time to check if there is anything needed to be done for carrier column."
   ]
  },
  {
   "cell_type": "code",
   "execution_count": 34,
   "metadata": {},
   "outputs": [
    {
     "data": {
      "text/plain": [
       "carrier\n",
       "Multiple Airlines                                8211\n",
       "Delta                                            5788\n",
       "KLM                                              4624\n",
       "Scandinavian Airlines                            2152\n",
       "Turkish Airlines                                 1923\n",
       "Aer Lingus                                       1894\n",
       "British Airways                                  1801\n",
       "Air France                                       1725\n",
       "Icelandair                                       1674\n",
       "American                                         1638\n",
       "Lufthansa                                        1377\n",
       "LOT                                              1315\n",
       "Tap Air Portugal                                 1309\n",
       "Air Canada                                       1281\n",
       "Virgin Atlantic                                  1271\n",
       "United                                           1244\n",
       "JetBlue                                          1130\n",
       "SWISS                                             963\n",
       "ITA                                               960\n",
       "Austrian                                          948\n",
       "Air Europa                                        927\n",
       "Iberia                                            811\n",
       "Royal Air Maroc                                   390\n",
       "Brussels Airlines, British Airways                338\n",
       "Brussels Airlines, British Airways, KLM           308\n",
       "Brussels Airlines, KLM, British Airways           261\n",
       "Finnair                                           244\n",
       "Condor, Lufthansa                                 241\n",
       "American, British Airways                         233\n",
       "Air Serbia                                        169\n",
       "Brussels Airlines, KLM                            162\n",
       "Brussels Airlines, Lufthansa, KLM                  98\n",
       "Brussels Airlines, Lufthansa, British Airways      73\n",
       "Virgin Atlantic, British Airways                   56\n",
       "United, British Airways                            54\n",
       "Delta, KLM                                         33\n",
       "Finnair, British Airways                           32\n",
       "Virgin Atlantic, KLM                               21\n",
       "Finnair, British Airways, KLM                      19\n",
       "Air France, KLM                                    16\n",
       "Iberia, British Airways                            15\n",
       "Lufthansa, Air Canada                              12\n",
       "Delta, Air France                                  12\n",
       "Austrian, British Airways                           8\n",
       "KLM, Delta                                          8\n",
       "United, Lufthansa                                   4\n",
       "Finnair, KLM                                        2\n",
       "KLM, Air Canada                                     2\n",
       "Virgin Atlantic, British Airways, KLM               2\n",
       "Austrian, KLM                                       2\n",
       "Austrian, British Airways, KLM                      2\n",
       "Name: count, dtype: int64"
      ]
     },
     "execution_count": 34,
     "metadata": {},
     "output_type": "execute_result"
    }
   ],
   "source": [
    "data[\"carrier\"].value_counts()"
   ]
  },
  {
   "cell_type": "markdown",
   "metadata": {},
   "source": [
    "There seems to be a lot of data that is seperated with commas. We could have done something similar to what we have done with stops column, but there is a problem. We also have \"Multiple Carriers\" as a value, which also represents flights made by multiple carriers same as the values that have been seperated by commas. \n",
    "So here is what we are going to do.\n",
    "- Strip the blank spaces\n",
    "- Split the string on commas\n",
    "- Get the first item from that list and assume that the first carrier is the main carrier for that itinerary.\n",
    "\n",
    "Here is the code for that."
   ]
  },
  {
   "cell_type": "code",
   "execution_count": 35,
   "metadata": {},
   "outputs": [],
   "source": [
    "data[\"carrier\"] = data[\"carrier\"].apply(lambda x:x.strip().split(\",\")[0])"
   ]
  },
  {
   "cell_type": "markdown",
   "metadata": {},
   "source": [
    "Let's see what we got with the code above."
   ]
  },
  {
   "cell_type": "code",
   "execution_count": 36,
   "metadata": {},
   "outputs": [
    {
     "data": {
      "text/plain": [
       "carrier\n",
       "Multiple Airlines        8211\n",
       "Delta                    5833\n",
       "KLM                      4634\n",
       "Scandinavian Airlines    2152\n",
       "Turkish Airlines         1923\n",
       "Aer Lingus               1894\n",
       "American                 1871\n",
       "British Airways          1801\n",
       "Air France               1741\n",
       "Icelandair               1674\n",
       "Lufthansa                1389\n",
       "Virgin Atlantic          1350\n",
       "LOT                      1315\n",
       "Tap Air Portugal         1309\n",
       "United                   1302\n",
       "Air Canada               1281\n",
       "Brussels Airlines        1240\n",
       "JetBlue                  1130\n",
       "SWISS                     963\n",
       "ITA                       960\n",
       "Austrian                  960\n",
       "Air Europa                927\n",
       "Iberia                    826\n",
       "Royal Air Maroc           390\n",
       "Finnair                   297\n",
       "Condor                    241\n",
       "Air Serbia                169\n",
       "Name: count, dtype: int64"
      ]
     },
     "execution_count": 36,
     "metadata": {},
     "output_type": "execute_result"
    }
   ],
   "source": [
    "data[\"carrier\"].value_counts()"
   ]
  },
  {
   "cell_type": "markdown",
   "metadata": {},
   "source": [
    "That looks more like it. We can have a final look to our dataframe to see if we miss anything."
   ]
  },
  {
   "cell_type": "code",
   "execution_count": 37,
   "metadata": {},
   "outputs": [
    {
     "data": {
      "text/html": [
       "<div>\n",
       "<style scoped>\n",
       "    .dataframe tbody tr th:only-of-type {\n",
       "        vertical-align: middle;\n",
       "    }\n",
       "\n",
       "    .dataframe tbody tr th {\n",
       "        vertical-align: top;\n",
       "    }\n",
       "\n",
       "    .dataframe thead th {\n",
       "        text-align: right;\n",
       "    }\n",
       "</style>\n",
       "<table border=\"1\" class=\"dataframe\">\n",
       "  <thead>\n",
       "    <tr style=\"text-align: right;\">\n",
       "      <th></th>\n",
       "      <th>price</th>\n",
       "      <th>carrier</th>\n",
       "      <th>start_date</th>\n",
       "      <th>end_date</th>\n",
       "      <th>total_stops</th>\n",
       "      <th>dep_time_outbound</th>\n",
       "      <th>dep_time_inbound</th>\n",
       "      <th>duration_outbound</th>\n",
       "      <th>duration_inbound</th>\n",
       "      <th>from</th>\n",
       "      <th>to</th>\n",
       "    </tr>\n",
       "  </thead>\n",
       "  <tbody>\n",
       "    <tr>\n",
       "      <th>0</th>\n",
       "      <td>481</td>\n",
       "      <td>Scandinavian Airlines</td>\n",
       "      <td>02/01/2024</td>\n",
       "      <td>02/08/2024</td>\n",
       "      <td>2</td>\n",
       "      <td>9:20 PM</td>\n",
       "      <td>5:50 PM</td>\n",
       "      <td>22h 15m</td>\n",
       "      <td>10h 40m</td>\n",
       "      <td>AMS</td>\n",
       "      <td>EWR</td>\n",
       "    </tr>\n",
       "    <tr>\n",
       "      <th>1</th>\n",
       "      <td>490</td>\n",
       "      <td>Scandinavian Airlines</td>\n",
       "      <td>02/01/2024</td>\n",
       "      <td>02/08/2024</td>\n",
       "      <td>2</td>\n",
       "      <td>7:00 AM</td>\n",
       "      <td>5:50 PM</td>\n",
       "      <td>14h 15m</td>\n",
       "      <td>10h 40m</td>\n",
       "      <td>AMS</td>\n",
       "      <td>EWR</td>\n",
       "    </tr>\n",
       "    <tr>\n",
       "      <th>2</th>\n",
       "      <td>490</td>\n",
       "      <td>Scandinavian Airlines</td>\n",
       "      <td>02/01/2024</td>\n",
       "      <td>02/08/2024</td>\n",
       "      <td>2</td>\n",
       "      <td>10:25 AM</td>\n",
       "      <td>5:50 PM</td>\n",
       "      <td>10h 50m</td>\n",
       "      <td>10h 40m</td>\n",
       "      <td>AMS</td>\n",
       "      <td>EWR</td>\n",
       "    </tr>\n",
       "    <tr>\n",
       "      <th>3</th>\n",
       "      <td>490</td>\n",
       "      <td>Scandinavian Airlines</td>\n",
       "      <td>02/01/2024</td>\n",
       "      <td>02/08/2024</td>\n",
       "      <td>2</td>\n",
       "      <td>2:55 PM</td>\n",
       "      <td>5:50 PM</td>\n",
       "      <td>12h 35m</td>\n",
       "      <td>10h 40m</td>\n",
       "      <td>AMS</td>\n",
       "      <td>JFK</td>\n",
       "    </tr>\n",
       "    <tr>\n",
       "      <th>4</th>\n",
       "      <td>490</td>\n",
       "      <td>Scandinavian Airlines</td>\n",
       "      <td>02/01/2024</td>\n",
       "      <td>02/08/2024</td>\n",
       "      <td>2</td>\n",
       "      <td>9:20 PM</td>\n",
       "      <td>5:35 PM</td>\n",
       "      <td>22h 15m</td>\n",
       "      <td>10h 10m</td>\n",
       "      <td>AMS</td>\n",
       "      <td>EWR</td>\n",
       "    </tr>\n",
       "  </tbody>\n",
       "</table>\n",
       "</div>"
      ],
      "text/plain": [
       "   price                carrier  start_date    end_date  total_stops  \\\n",
       "0    481  Scandinavian Airlines  02/01/2024  02/08/2024            2   \n",
       "1    490  Scandinavian Airlines  02/01/2024  02/08/2024            2   \n",
       "2    490  Scandinavian Airlines  02/01/2024  02/08/2024            2   \n",
       "3    490  Scandinavian Airlines  02/01/2024  02/08/2024            2   \n",
       "4    490  Scandinavian Airlines  02/01/2024  02/08/2024            2   \n",
       "\n",
       "  dep_time_outbound dep_time_inbound duration_outbound duration_inbound from  \\\n",
       "0           9:20 PM          5:50 PM           22h 15m          10h 40m  AMS   \n",
       "1           7:00 AM          5:50 PM           14h 15m          10h 40m  AMS   \n",
       "2          10:25 AM          5:50 PM           10h 50m          10h 40m  AMS   \n",
       "3           2:55 PM          5:50 PM           12h 35m          10h 40m  AMS   \n",
       "4           9:20 PM          5:35 PM           22h 15m          10h 10m  AMS   \n",
       "\n",
       "    to  \n",
       "0  EWR  \n",
       "1  EWR  \n",
       "2  EWR  \n",
       "3  JFK  \n",
       "4  EWR  "
      ]
     },
     "execution_count": 37,
     "metadata": {},
     "output_type": "execute_result"
    }
   ],
   "source": [
    "data.head()"
   ]
  },
  {
   "cell_type": "markdown",
   "metadata": {},
   "source": [
    "Everything looks good, we now have a dataframe that looks a lot better in comparison to what we had in the beginning. But we are not done yet. Time to do some feature engineering before we wrap this up and load our data to a database or whereever we would like to store it."
   ]
  },
  {
   "cell_type": "markdown",
   "metadata": {},
   "source": [
    "# Feature Engineering"
   ]
  },
  {
   "cell_type": "markdown",
   "metadata": {},
   "source": [
    "Dataframe we have transformed above was messy and was not readable at all. But with some extra information that can be extracted from the dataframe we can add a lot more meaning to it. Here is a short explanation of what we will do.\n",
    "- Flight prices tend to change from day of week to day of week. We will extract them to use for further analysis.\n",
    "- Flight durations can also be used as a metric, but with the format that we have above it may not be useful to use in ML algorithms. We need something numeric, best way that comes to mind is to convert them to minutes.\n",
    "- Flight departure times are also in AM/PM format, which means something. But we can add more value to them by clustering them in day times, such as \"Morning\",\"Afternoon\" etc.\n",
    "- It is almost known by everybody that flight prices increase on holiday seasons. So day of year, month, day of month etc. are valuable informations. We will excract them aswell.\n",
    "- Getting flight days and times together could also prove useful in the future."
   ]
  },
  {
   "cell_type": "markdown",
   "metadata": {},
   "source": [
    "Let's start by excracting day of week from start_date column. Keep in mind that this function will return values ranging between (0-6), 0:Monday, 6:Sunday."
   ]
  },
  {
   "cell_type": "code",
   "execution_count": 38,
   "metadata": {},
   "outputs": [],
   "source": [
    "data[\"day_of_week\"] = pd.to_datetime(data[\"start_date\"]).dt.day_of_week"
   ]
  },
  {
   "cell_type": "markdown",
   "metadata": {},
   "source": [
    "Let's see what we got."
   ]
  },
  {
   "cell_type": "code",
   "execution_count": 39,
   "metadata": {},
   "outputs": [
    {
     "data": {
      "text/html": [
       "<div>\n",
       "<style scoped>\n",
       "    .dataframe tbody tr th:only-of-type {\n",
       "        vertical-align: middle;\n",
       "    }\n",
       "\n",
       "    .dataframe tbody tr th {\n",
       "        vertical-align: top;\n",
       "    }\n",
       "\n",
       "    .dataframe thead th {\n",
       "        text-align: right;\n",
       "    }\n",
       "</style>\n",
       "<table border=\"1\" class=\"dataframe\">\n",
       "  <thead>\n",
       "    <tr style=\"text-align: right;\">\n",
       "      <th></th>\n",
       "      <th>price</th>\n",
       "      <th>carrier</th>\n",
       "      <th>start_date</th>\n",
       "      <th>end_date</th>\n",
       "      <th>total_stops</th>\n",
       "      <th>dep_time_outbound</th>\n",
       "      <th>dep_time_inbound</th>\n",
       "      <th>duration_outbound</th>\n",
       "      <th>duration_inbound</th>\n",
       "      <th>from</th>\n",
       "      <th>to</th>\n",
       "      <th>day_of_week</th>\n",
       "    </tr>\n",
       "  </thead>\n",
       "  <tbody>\n",
       "    <tr>\n",
       "      <th>0</th>\n",
       "      <td>481</td>\n",
       "      <td>Scandinavian Airlines</td>\n",
       "      <td>02/01/2024</td>\n",
       "      <td>02/08/2024</td>\n",
       "      <td>2</td>\n",
       "      <td>9:20 PM</td>\n",
       "      <td>5:50 PM</td>\n",
       "      <td>22h 15m</td>\n",
       "      <td>10h 40m</td>\n",
       "      <td>AMS</td>\n",
       "      <td>EWR</td>\n",
       "      <td>3</td>\n",
       "    </tr>\n",
       "    <tr>\n",
       "      <th>1</th>\n",
       "      <td>490</td>\n",
       "      <td>Scandinavian Airlines</td>\n",
       "      <td>02/01/2024</td>\n",
       "      <td>02/08/2024</td>\n",
       "      <td>2</td>\n",
       "      <td>7:00 AM</td>\n",
       "      <td>5:50 PM</td>\n",
       "      <td>14h 15m</td>\n",
       "      <td>10h 40m</td>\n",
       "      <td>AMS</td>\n",
       "      <td>EWR</td>\n",
       "      <td>3</td>\n",
       "    </tr>\n",
       "    <tr>\n",
       "      <th>2</th>\n",
       "      <td>490</td>\n",
       "      <td>Scandinavian Airlines</td>\n",
       "      <td>02/01/2024</td>\n",
       "      <td>02/08/2024</td>\n",
       "      <td>2</td>\n",
       "      <td>10:25 AM</td>\n",
       "      <td>5:50 PM</td>\n",
       "      <td>10h 50m</td>\n",
       "      <td>10h 40m</td>\n",
       "      <td>AMS</td>\n",
       "      <td>EWR</td>\n",
       "      <td>3</td>\n",
       "    </tr>\n",
       "    <tr>\n",
       "      <th>3</th>\n",
       "      <td>490</td>\n",
       "      <td>Scandinavian Airlines</td>\n",
       "      <td>02/01/2024</td>\n",
       "      <td>02/08/2024</td>\n",
       "      <td>2</td>\n",
       "      <td>2:55 PM</td>\n",
       "      <td>5:50 PM</td>\n",
       "      <td>12h 35m</td>\n",
       "      <td>10h 40m</td>\n",
       "      <td>AMS</td>\n",
       "      <td>JFK</td>\n",
       "      <td>3</td>\n",
       "    </tr>\n",
       "    <tr>\n",
       "      <th>4</th>\n",
       "      <td>490</td>\n",
       "      <td>Scandinavian Airlines</td>\n",
       "      <td>02/01/2024</td>\n",
       "      <td>02/08/2024</td>\n",
       "      <td>2</td>\n",
       "      <td>9:20 PM</td>\n",
       "      <td>5:35 PM</td>\n",
       "      <td>22h 15m</td>\n",
       "      <td>10h 10m</td>\n",
       "      <td>AMS</td>\n",
       "      <td>EWR</td>\n",
       "      <td>3</td>\n",
       "    </tr>\n",
       "  </tbody>\n",
       "</table>\n",
       "</div>"
      ],
      "text/plain": [
       "   price                carrier  start_date    end_date  total_stops  \\\n",
       "0    481  Scandinavian Airlines  02/01/2024  02/08/2024            2   \n",
       "1    490  Scandinavian Airlines  02/01/2024  02/08/2024            2   \n",
       "2    490  Scandinavian Airlines  02/01/2024  02/08/2024            2   \n",
       "3    490  Scandinavian Airlines  02/01/2024  02/08/2024            2   \n",
       "4    490  Scandinavian Airlines  02/01/2024  02/08/2024            2   \n",
       "\n",
       "  dep_time_outbound dep_time_inbound duration_outbound duration_inbound from  \\\n",
       "0           9:20 PM          5:50 PM           22h 15m          10h 40m  AMS   \n",
       "1           7:00 AM          5:50 PM           14h 15m          10h 40m  AMS   \n",
       "2          10:25 AM          5:50 PM           10h 50m          10h 40m  AMS   \n",
       "3           2:55 PM          5:50 PM           12h 35m          10h 40m  AMS   \n",
       "4           9:20 PM          5:35 PM           22h 15m          10h 10m  AMS   \n",
       "\n",
       "    to  day_of_week  \n",
       "0  EWR            3  \n",
       "1  EWR            3  \n",
       "2  EWR            3  \n",
       "3  JFK            3  \n",
       "4  EWR            3  "
      ]
     },
     "execution_count": 39,
     "metadata": {},
     "output_type": "execute_result"
    }
   ],
   "source": [
    "data.head()"
   ]
  },
  {
   "cell_type": "markdown",
   "metadata": {},
   "source": [
    "We can try to store start_date and flight times together in a datetime column."
   ]
  },
  {
   "cell_type": "code",
   "execution_count": 40,
   "metadata": {},
   "outputs": [
    {
     "name": "stderr",
     "output_type": "stream",
     "text": [
      "/var/folders/wb/6760lkds57qdv6xw0h99q8dm0000gn/T/ipykernel_8084/2243832005.py:2: UserWarning: Could not infer format, so each element will be parsed individually, falling back to `dateutil`. To ensure parsing is consistent and as-expected, please specify a format.\n",
      "  start_date_time = pd.to_datetime(pd.to_datetime(start_date_time))\n"
     ]
    }
   ],
   "source": [
    "start_date_time = data[\"start_date\"] +\" \"+ data[\"dep_time_outbound\"]\n",
    "start_date_time = pd.to_datetime(pd.to_datetime(start_date_time))"
   ]
  },
  {
   "cell_type": "code",
   "execution_count": 41,
   "metadata": {},
   "outputs": [
    {
     "data": {
      "text/plain": [
       "0   2024-02-01 21:20:00\n",
       "1   2024-02-01 07:00:00\n",
       "2   2024-02-01 10:25:00\n",
       "3   2024-02-01 14:55:00\n",
       "4   2024-02-01 21:20:00\n",
       "dtype: datetime64[ns]"
      ]
     },
     "execution_count": 41,
     "metadata": {},
     "output_type": "execute_result"
    }
   ],
   "source": [
    "start_date_time.head()"
   ]
  },
  {
   "cell_type": "markdown",
   "metadata": {},
   "source": [
    "This does not really seem to useful (for now at least). So there is no reason to add this to dataframe."
   ]
  },
  {
   "cell_type": "markdown",
   "metadata": {},
   "source": [
    "Now we can convert our flight durations to minutes with the help of Pandas built-in timedelta function. We can use following function to convert durations to minutes."
   ]
  },
  {
   "cell_type": "code",
   "execution_count": 42,
   "metadata": {},
   "outputs": [],
   "source": [
    "def to_minutes(time_string):\n",
    "  time_delta = pd.to_timedelta(time_string)\n",
    "  minutes = time_delta.total_seconds() / 60\n",
    "  return minutes"
   ]
  },
  {
   "cell_type": "markdown",
   "metadata": {},
   "source": [
    "Time to apply our new function to our columns to create new columns."
   ]
  },
  {
   "cell_type": "code",
   "execution_count": 43,
   "metadata": {},
   "outputs": [],
   "source": [
    "data[\"outbound_duration_minutes\"] = data[\"duration_outbound\"].apply(to_minutes)\n",
    "data[\"inbound_duration_minutes\"] = data[\"duration_inbound\"].apply(to_minutes)"
   ]
  },
  {
   "cell_type": "markdown",
   "metadata": {},
   "source": [
    "Output looks like this."
   ]
  },
  {
   "cell_type": "code",
   "execution_count": 44,
   "metadata": {},
   "outputs": [
    {
     "data": {
      "text/html": [
       "<div>\n",
       "<style scoped>\n",
       "    .dataframe tbody tr th:only-of-type {\n",
       "        vertical-align: middle;\n",
       "    }\n",
       "\n",
       "    .dataframe tbody tr th {\n",
       "        vertical-align: top;\n",
       "    }\n",
       "\n",
       "    .dataframe thead th {\n",
       "        text-align: right;\n",
       "    }\n",
       "</style>\n",
       "<table border=\"1\" class=\"dataframe\">\n",
       "  <thead>\n",
       "    <tr style=\"text-align: right;\">\n",
       "      <th></th>\n",
       "      <th>price</th>\n",
       "      <th>carrier</th>\n",
       "      <th>start_date</th>\n",
       "      <th>end_date</th>\n",
       "      <th>total_stops</th>\n",
       "      <th>dep_time_outbound</th>\n",
       "      <th>dep_time_inbound</th>\n",
       "      <th>duration_outbound</th>\n",
       "      <th>duration_inbound</th>\n",
       "      <th>from</th>\n",
       "      <th>to</th>\n",
       "      <th>day_of_week</th>\n",
       "      <th>outbound_duration_minutes</th>\n",
       "      <th>inbound_duration_minutes</th>\n",
       "    </tr>\n",
       "  </thead>\n",
       "  <tbody>\n",
       "    <tr>\n",
       "      <th>0</th>\n",
       "      <td>481</td>\n",
       "      <td>Scandinavian Airlines</td>\n",
       "      <td>02/01/2024</td>\n",
       "      <td>02/08/2024</td>\n",
       "      <td>2</td>\n",
       "      <td>9:20 PM</td>\n",
       "      <td>5:50 PM</td>\n",
       "      <td>22h 15m</td>\n",
       "      <td>10h 40m</td>\n",
       "      <td>AMS</td>\n",
       "      <td>EWR</td>\n",
       "      <td>3</td>\n",
       "      <td>1335.0</td>\n",
       "      <td>640.0</td>\n",
       "    </tr>\n",
       "    <tr>\n",
       "      <th>1</th>\n",
       "      <td>490</td>\n",
       "      <td>Scandinavian Airlines</td>\n",
       "      <td>02/01/2024</td>\n",
       "      <td>02/08/2024</td>\n",
       "      <td>2</td>\n",
       "      <td>7:00 AM</td>\n",
       "      <td>5:50 PM</td>\n",
       "      <td>14h 15m</td>\n",
       "      <td>10h 40m</td>\n",
       "      <td>AMS</td>\n",
       "      <td>EWR</td>\n",
       "      <td>3</td>\n",
       "      <td>855.0</td>\n",
       "      <td>640.0</td>\n",
       "    </tr>\n",
       "    <tr>\n",
       "      <th>2</th>\n",
       "      <td>490</td>\n",
       "      <td>Scandinavian Airlines</td>\n",
       "      <td>02/01/2024</td>\n",
       "      <td>02/08/2024</td>\n",
       "      <td>2</td>\n",
       "      <td>10:25 AM</td>\n",
       "      <td>5:50 PM</td>\n",
       "      <td>10h 50m</td>\n",
       "      <td>10h 40m</td>\n",
       "      <td>AMS</td>\n",
       "      <td>EWR</td>\n",
       "      <td>3</td>\n",
       "      <td>650.0</td>\n",
       "      <td>640.0</td>\n",
       "    </tr>\n",
       "    <tr>\n",
       "      <th>3</th>\n",
       "      <td>490</td>\n",
       "      <td>Scandinavian Airlines</td>\n",
       "      <td>02/01/2024</td>\n",
       "      <td>02/08/2024</td>\n",
       "      <td>2</td>\n",
       "      <td>2:55 PM</td>\n",
       "      <td>5:50 PM</td>\n",
       "      <td>12h 35m</td>\n",
       "      <td>10h 40m</td>\n",
       "      <td>AMS</td>\n",
       "      <td>JFK</td>\n",
       "      <td>3</td>\n",
       "      <td>755.0</td>\n",
       "      <td>640.0</td>\n",
       "    </tr>\n",
       "    <tr>\n",
       "      <th>4</th>\n",
       "      <td>490</td>\n",
       "      <td>Scandinavian Airlines</td>\n",
       "      <td>02/01/2024</td>\n",
       "      <td>02/08/2024</td>\n",
       "      <td>2</td>\n",
       "      <td>9:20 PM</td>\n",
       "      <td>5:35 PM</td>\n",
       "      <td>22h 15m</td>\n",
       "      <td>10h 10m</td>\n",
       "      <td>AMS</td>\n",
       "      <td>EWR</td>\n",
       "      <td>3</td>\n",
       "      <td>1335.0</td>\n",
       "      <td>610.0</td>\n",
       "    </tr>\n",
       "  </tbody>\n",
       "</table>\n",
       "</div>"
      ],
      "text/plain": [
       "   price                carrier  start_date    end_date  total_stops  \\\n",
       "0    481  Scandinavian Airlines  02/01/2024  02/08/2024            2   \n",
       "1    490  Scandinavian Airlines  02/01/2024  02/08/2024            2   \n",
       "2    490  Scandinavian Airlines  02/01/2024  02/08/2024            2   \n",
       "3    490  Scandinavian Airlines  02/01/2024  02/08/2024            2   \n",
       "4    490  Scandinavian Airlines  02/01/2024  02/08/2024            2   \n",
       "\n",
       "  dep_time_outbound dep_time_inbound duration_outbound duration_inbound from  \\\n",
       "0           9:20 PM          5:50 PM           22h 15m          10h 40m  AMS   \n",
       "1           7:00 AM          5:50 PM           14h 15m          10h 40m  AMS   \n",
       "2          10:25 AM          5:50 PM           10h 50m          10h 40m  AMS   \n",
       "3           2:55 PM          5:50 PM           12h 35m          10h 40m  AMS   \n",
       "4           9:20 PM          5:35 PM           22h 15m          10h 10m  AMS   \n",
       "\n",
       "    to  day_of_week  outbound_duration_minutes  inbound_duration_minutes  \n",
       "0  EWR            3                     1335.0                     640.0  \n",
       "1  EWR            3                      855.0                     640.0  \n",
       "2  EWR            3                      650.0                     640.0  \n",
       "3  JFK            3                      755.0                     640.0  \n",
       "4  EWR            3                     1335.0                     610.0  "
      ]
     },
     "execution_count": 44,
     "metadata": {},
     "output_type": "execute_result"
    }
   ],
   "source": [
    "data.head()"
   ]
  },
  {
   "cell_type": "markdown",
   "metadata": {},
   "source": [
    "Now lets get \"day-time\" information from our \"dep_time\" columns. We need to create a function for that. So here is the function to do that."
   ]
  },
  {
   "cell_type": "code",
   "execution_count": 45,
   "metadata": {},
   "outputs": [],
   "source": [
    "def to_time_of_day(time_string):\n",
    "  hour = int(time_string.split(\":\")[0])  #Extracting hour from time string\n",
    "  am_pm = time_string.split(\"AM\")[-1]  #Extract AM/PM indicator\n",
    "\n",
    "  if am_pm == \"PM\" and hour != 12:  #Adjusting for hours that represent PM.\n",
    "    hour += 12\n",
    "\n",
    "  #Classifying hours to time of days.\n",
    "  if 5 <= hour < 12:\n",
    "    return \"Morning\"\n",
    "  elif 12 <= hour < 17:\n",
    "    return \"Afternoon\"\n",
    "  elif 17 <= hour < 20:\n",
    "    return \"Evening\"\n",
    "  elif 20 <= hour < 24:\n",
    "    return \"Night\"\n",
    "  else:\n",
    "    return \"Early Morning\""
   ]
  },
  {
   "cell_type": "code",
   "execution_count": 46,
   "metadata": {},
   "outputs": [],
   "source": [
    "data[\"time_of_day_outbound\"] = data[\"dep_time_outbound\"].apply(to_time_of_day)\n",
    "data[\"time_of_day_inbound\"] = data[\"dep_time_inbound\"].apply(to_time_of_day)"
   ]
  },
  {
   "cell_type": "markdown",
   "metadata": {},
   "source": [
    "Here is the output."
   ]
  },
  {
   "cell_type": "code",
   "execution_count": 47,
   "metadata": {},
   "outputs": [
    {
     "data": {
      "text/html": [
       "<div>\n",
       "<style scoped>\n",
       "    .dataframe tbody tr th:only-of-type {\n",
       "        vertical-align: middle;\n",
       "    }\n",
       "\n",
       "    .dataframe tbody tr th {\n",
       "        vertical-align: top;\n",
       "    }\n",
       "\n",
       "    .dataframe thead th {\n",
       "        text-align: right;\n",
       "    }\n",
       "</style>\n",
       "<table border=\"1\" class=\"dataframe\">\n",
       "  <thead>\n",
       "    <tr style=\"text-align: right;\">\n",
       "      <th></th>\n",
       "      <th>price</th>\n",
       "      <th>carrier</th>\n",
       "      <th>start_date</th>\n",
       "      <th>end_date</th>\n",
       "      <th>total_stops</th>\n",
       "      <th>dep_time_outbound</th>\n",
       "      <th>dep_time_inbound</th>\n",
       "      <th>duration_outbound</th>\n",
       "      <th>duration_inbound</th>\n",
       "      <th>from</th>\n",
       "      <th>to</th>\n",
       "      <th>day_of_week</th>\n",
       "      <th>outbound_duration_minutes</th>\n",
       "      <th>inbound_duration_minutes</th>\n",
       "      <th>time_of_day_outbound</th>\n",
       "      <th>time_of_day_inbound</th>\n",
       "    </tr>\n",
       "  </thead>\n",
       "  <tbody>\n",
       "    <tr>\n",
       "      <th>0</th>\n",
       "      <td>481</td>\n",
       "      <td>Scandinavian Airlines</td>\n",
       "      <td>02/01/2024</td>\n",
       "      <td>02/08/2024</td>\n",
       "      <td>2</td>\n",
       "      <td>9:20 PM</td>\n",
       "      <td>5:50 PM</td>\n",
       "      <td>22h 15m</td>\n",
       "      <td>10h 40m</td>\n",
       "      <td>AMS</td>\n",
       "      <td>EWR</td>\n",
       "      <td>3</td>\n",
       "      <td>1335.0</td>\n",
       "      <td>640.0</td>\n",
       "      <td>Morning</td>\n",
       "      <td>Morning</td>\n",
       "    </tr>\n",
       "    <tr>\n",
       "      <th>1</th>\n",
       "      <td>490</td>\n",
       "      <td>Scandinavian Airlines</td>\n",
       "      <td>02/01/2024</td>\n",
       "      <td>02/08/2024</td>\n",
       "      <td>2</td>\n",
       "      <td>7:00 AM</td>\n",
       "      <td>5:50 PM</td>\n",
       "      <td>14h 15m</td>\n",
       "      <td>10h 40m</td>\n",
       "      <td>AMS</td>\n",
       "      <td>EWR</td>\n",
       "      <td>3</td>\n",
       "      <td>855.0</td>\n",
       "      <td>640.0</td>\n",
       "      <td>Morning</td>\n",
       "      <td>Morning</td>\n",
       "    </tr>\n",
       "    <tr>\n",
       "      <th>2</th>\n",
       "      <td>490</td>\n",
       "      <td>Scandinavian Airlines</td>\n",
       "      <td>02/01/2024</td>\n",
       "      <td>02/08/2024</td>\n",
       "      <td>2</td>\n",
       "      <td>10:25 AM</td>\n",
       "      <td>5:50 PM</td>\n",
       "      <td>10h 50m</td>\n",
       "      <td>10h 40m</td>\n",
       "      <td>AMS</td>\n",
       "      <td>EWR</td>\n",
       "      <td>3</td>\n",
       "      <td>650.0</td>\n",
       "      <td>640.0</td>\n",
       "      <td>Morning</td>\n",
       "      <td>Morning</td>\n",
       "    </tr>\n",
       "    <tr>\n",
       "      <th>3</th>\n",
       "      <td>490</td>\n",
       "      <td>Scandinavian Airlines</td>\n",
       "      <td>02/01/2024</td>\n",
       "      <td>02/08/2024</td>\n",
       "      <td>2</td>\n",
       "      <td>2:55 PM</td>\n",
       "      <td>5:50 PM</td>\n",
       "      <td>12h 35m</td>\n",
       "      <td>10h 40m</td>\n",
       "      <td>AMS</td>\n",
       "      <td>JFK</td>\n",
       "      <td>3</td>\n",
       "      <td>755.0</td>\n",
       "      <td>640.0</td>\n",
       "      <td>Early Morning</td>\n",
       "      <td>Morning</td>\n",
       "    </tr>\n",
       "    <tr>\n",
       "      <th>4</th>\n",
       "      <td>490</td>\n",
       "      <td>Scandinavian Airlines</td>\n",
       "      <td>02/01/2024</td>\n",
       "      <td>02/08/2024</td>\n",
       "      <td>2</td>\n",
       "      <td>9:20 PM</td>\n",
       "      <td>5:35 PM</td>\n",
       "      <td>22h 15m</td>\n",
       "      <td>10h 10m</td>\n",
       "      <td>AMS</td>\n",
       "      <td>EWR</td>\n",
       "      <td>3</td>\n",
       "      <td>1335.0</td>\n",
       "      <td>610.0</td>\n",
       "      <td>Morning</td>\n",
       "      <td>Morning</td>\n",
       "    </tr>\n",
       "  </tbody>\n",
       "</table>\n",
       "</div>"
      ],
      "text/plain": [
       "   price                carrier  start_date    end_date  total_stops  \\\n",
       "0    481  Scandinavian Airlines  02/01/2024  02/08/2024            2   \n",
       "1    490  Scandinavian Airlines  02/01/2024  02/08/2024            2   \n",
       "2    490  Scandinavian Airlines  02/01/2024  02/08/2024            2   \n",
       "3    490  Scandinavian Airlines  02/01/2024  02/08/2024            2   \n",
       "4    490  Scandinavian Airlines  02/01/2024  02/08/2024            2   \n",
       "\n",
       "  dep_time_outbound dep_time_inbound duration_outbound duration_inbound from  \\\n",
       "0           9:20 PM          5:50 PM           22h 15m          10h 40m  AMS   \n",
       "1           7:00 AM          5:50 PM           14h 15m          10h 40m  AMS   \n",
       "2          10:25 AM          5:50 PM           10h 50m          10h 40m  AMS   \n",
       "3           2:55 PM          5:50 PM           12h 35m          10h 40m  AMS   \n",
       "4           9:20 PM          5:35 PM           22h 15m          10h 10m  AMS   \n",
       "\n",
       "    to  day_of_week  outbound_duration_minutes  inbound_duration_minutes  \\\n",
       "0  EWR            3                     1335.0                     640.0   \n",
       "1  EWR            3                      855.0                     640.0   \n",
       "2  EWR            3                      650.0                     640.0   \n",
       "3  JFK            3                      755.0                     640.0   \n",
       "4  EWR            3                     1335.0                     610.0   \n",
       "\n",
       "  time_of_day_outbound time_of_day_inbound  \n",
       "0              Morning             Morning  \n",
       "1              Morning             Morning  \n",
       "2              Morning             Morning  \n",
       "3        Early Morning             Morning  \n",
       "4              Morning             Morning  "
      ]
     },
     "execution_count": 47,
     "metadata": {},
     "output_type": "execute_result"
    }
   ],
   "source": [
    "data.head()"
   ]
  },
  {
   "cell_type": "markdown",
   "metadata": {},
   "source": [
    "Now only thing left to do is to exctract date related informations from our start_date column. It is pretty simple, following code will do the trick."
   ]
  },
  {
   "cell_type": "code",
   "execution_count": 48,
   "metadata": {},
   "outputs": [],
   "source": [
    "data[\"day_of_year\"] = pd.to_datetime(data[\"start_date\"]).dt.day_of_year\n",
    "data[\"month_number\"] = pd.to_datetime(data[\"start_date\"]).dt.month\n",
    "data[\"day_of_month\"] = pd.to_datetime(data[\"start_date\"]).dt.day\n",
    "data[\"month_number_end\"] = pd.to_datetime(data[\"end_date\"]).dt.month\n",
    "data[\"day_of_month_end\"] = pd.to_datetime(data[\"end_date\"]).dt.day"
   ]
  },
  {
   "cell_type": "markdown",
   "metadata": {},
   "source": [
    "Let's have a final look to our dataframe before saying that we are done."
   ]
  },
  {
   "cell_type": "code",
   "execution_count": 49,
   "metadata": {},
   "outputs": [
    {
     "data": {
      "text/html": [
       "<div>\n",
       "<style scoped>\n",
       "    .dataframe tbody tr th:only-of-type {\n",
       "        vertical-align: middle;\n",
       "    }\n",
       "\n",
       "    .dataframe tbody tr th {\n",
       "        vertical-align: top;\n",
       "    }\n",
       "\n",
       "    .dataframe thead th {\n",
       "        text-align: right;\n",
       "    }\n",
       "</style>\n",
       "<table border=\"1\" class=\"dataframe\">\n",
       "  <thead>\n",
       "    <tr style=\"text-align: right;\">\n",
       "      <th></th>\n",
       "      <th>price</th>\n",
       "      <th>carrier</th>\n",
       "      <th>start_date</th>\n",
       "      <th>end_date</th>\n",
       "      <th>total_stops</th>\n",
       "      <th>dep_time_outbound</th>\n",
       "      <th>dep_time_inbound</th>\n",
       "      <th>duration_outbound</th>\n",
       "      <th>duration_inbound</th>\n",
       "      <th>from</th>\n",
       "      <th>...</th>\n",
       "      <th>day_of_week</th>\n",
       "      <th>outbound_duration_minutes</th>\n",
       "      <th>inbound_duration_minutes</th>\n",
       "      <th>time_of_day_outbound</th>\n",
       "      <th>time_of_day_inbound</th>\n",
       "      <th>day_of_year</th>\n",
       "      <th>month_number</th>\n",
       "      <th>day_of_month</th>\n",
       "      <th>month_number_end</th>\n",
       "      <th>day_of_month_end</th>\n",
       "    </tr>\n",
       "  </thead>\n",
       "  <tbody>\n",
       "    <tr>\n",
       "      <th>0</th>\n",
       "      <td>481</td>\n",
       "      <td>Scandinavian Airlines</td>\n",
       "      <td>02/01/2024</td>\n",
       "      <td>02/08/2024</td>\n",
       "      <td>2</td>\n",
       "      <td>9:20 PM</td>\n",
       "      <td>5:50 PM</td>\n",
       "      <td>22h 15m</td>\n",
       "      <td>10h 40m</td>\n",
       "      <td>AMS</td>\n",
       "      <td>...</td>\n",
       "      <td>3</td>\n",
       "      <td>1335.0</td>\n",
       "      <td>640.0</td>\n",
       "      <td>Morning</td>\n",
       "      <td>Morning</td>\n",
       "      <td>32</td>\n",
       "      <td>2</td>\n",
       "      <td>1</td>\n",
       "      <td>2</td>\n",
       "      <td>8</td>\n",
       "    </tr>\n",
       "    <tr>\n",
       "      <th>1</th>\n",
       "      <td>490</td>\n",
       "      <td>Scandinavian Airlines</td>\n",
       "      <td>02/01/2024</td>\n",
       "      <td>02/08/2024</td>\n",
       "      <td>2</td>\n",
       "      <td>7:00 AM</td>\n",
       "      <td>5:50 PM</td>\n",
       "      <td>14h 15m</td>\n",
       "      <td>10h 40m</td>\n",
       "      <td>AMS</td>\n",
       "      <td>...</td>\n",
       "      <td>3</td>\n",
       "      <td>855.0</td>\n",
       "      <td>640.0</td>\n",
       "      <td>Morning</td>\n",
       "      <td>Morning</td>\n",
       "      <td>32</td>\n",
       "      <td>2</td>\n",
       "      <td>1</td>\n",
       "      <td>2</td>\n",
       "      <td>8</td>\n",
       "    </tr>\n",
       "    <tr>\n",
       "      <th>2</th>\n",
       "      <td>490</td>\n",
       "      <td>Scandinavian Airlines</td>\n",
       "      <td>02/01/2024</td>\n",
       "      <td>02/08/2024</td>\n",
       "      <td>2</td>\n",
       "      <td>10:25 AM</td>\n",
       "      <td>5:50 PM</td>\n",
       "      <td>10h 50m</td>\n",
       "      <td>10h 40m</td>\n",
       "      <td>AMS</td>\n",
       "      <td>...</td>\n",
       "      <td>3</td>\n",
       "      <td>650.0</td>\n",
       "      <td>640.0</td>\n",
       "      <td>Morning</td>\n",
       "      <td>Morning</td>\n",
       "      <td>32</td>\n",
       "      <td>2</td>\n",
       "      <td>1</td>\n",
       "      <td>2</td>\n",
       "      <td>8</td>\n",
       "    </tr>\n",
       "    <tr>\n",
       "      <th>3</th>\n",
       "      <td>490</td>\n",
       "      <td>Scandinavian Airlines</td>\n",
       "      <td>02/01/2024</td>\n",
       "      <td>02/08/2024</td>\n",
       "      <td>2</td>\n",
       "      <td>2:55 PM</td>\n",
       "      <td>5:50 PM</td>\n",
       "      <td>12h 35m</td>\n",
       "      <td>10h 40m</td>\n",
       "      <td>AMS</td>\n",
       "      <td>...</td>\n",
       "      <td>3</td>\n",
       "      <td>755.0</td>\n",
       "      <td>640.0</td>\n",
       "      <td>Early Morning</td>\n",
       "      <td>Morning</td>\n",
       "      <td>32</td>\n",
       "      <td>2</td>\n",
       "      <td>1</td>\n",
       "      <td>2</td>\n",
       "      <td>8</td>\n",
       "    </tr>\n",
       "    <tr>\n",
       "      <th>4</th>\n",
       "      <td>490</td>\n",
       "      <td>Scandinavian Airlines</td>\n",
       "      <td>02/01/2024</td>\n",
       "      <td>02/08/2024</td>\n",
       "      <td>2</td>\n",
       "      <td>9:20 PM</td>\n",
       "      <td>5:35 PM</td>\n",
       "      <td>22h 15m</td>\n",
       "      <td>10h 10m</td>\n",
       "      <td>AMS</td>\n",
       "      <td>...</td>\n",
       "      <td>3</td>\n",
       "      <td>1335.0</td>\n",
       "      <td>610.0</td>\n",
       "      <td>Morning</td>\n",
       "      <td>Morning</td>\n",
       "      <td>32</td>\n",
       "      <td>2</td>\n",
       "      <td>1</td>\n",
       "      <td>2</td>\n",
       "      <td>8</td>\n",
       "    </tr>\n",
       "  </tbody>\n",
       "</table>\n",
       "<p>5 rows × 21 columns</p>\n",
       "</div>"
      ],
      "text/plain": [
       "   price                carrier  start_date    end_date  total_stops  \\\n",
       "0    481  Scandinavian Airlines  02/01/2024  02/08/2024            2   \n",
       "1    490  Scandinavian Airlines  02/01/2024  02/08/2024            2   \n",
       "2    490  Scandinavian Airlines  02/01/2024  02/08/2024            2   \n",
       "3    490  Scandinavian Airlines  02/01/2024  02/08/2024            2   \n",
       "4    490  Scandinavian Airlines  02/01/2024  02/08/2024            2   \n",
       "\n",
       "  dep_time_outbound dep_time_inbound duration_outbound duration_inbound from  \\\n",
       "0           9:20 PM          5:50 PM           22h 15m          10h 40m  AMS   \n",
       "1           7:00 AM          5:50 PM           14h 15m          10h 40m  AMS   \n",
       "2          10:25 AM          5:50 PM           10h 50m          10h 40m  AMS   \n",
       "3           2:55 PM          5:50 PM           12h 35m          10h 40m  AMS   \n",
       "4           9:20 PM          5:35 PM           22h 15m          10h 10m  AMS   \n",
       "\n",
       "   ... day_of_week  outbound_duration_minutes  inbound_duration_minutes  \\\n",
       "0  ...           3                     1335.0                     640.0   \n",
       "1  ...           3                      855.0                     640.0   \n",
       "2  ...           3                      650.0                     640.0   \n",
       "3  ...           3                      755.0                     640.0   \n",
       "4  ...           3                     1335.0                     610.0   \n",
       "\n",
       "   time_of_day_outbound time_of_day_inbound day_of_year  month_number  \\\n",
       "0               Morning             Morning          32             2   \n",
       "1               Morning             Morning          32             2   \n",
       "2               Morning             Morning          32             2   \n",
       "3         Early Morning             Morning          32             2   \n",
       "4               Morning             Morning          32             2   \n",
       "\n",
       "   day_of_month  month_number_end  day_of_month_end  \n",
       "0             1                 2                 8  \n",
       "1             1                 2                 8  \n",
       "2             1                 2                 8  \n",
       "3             1                 2                 8  \n",
       "4             1                 2                 8  \n",
       "\n",
       "[5 rows x 21 columns]"
      ]
     },
     "execution_count": 49,
     "metadata": {},
     "output_type": "execute_result"
    }
   ],
   "source": [
    "data.head()"
   ]
  },
  {
   "cell_type": "markdown",
   "metadata": {},
   "source": [
    "Final data frame that we have can be loaded to anywhere we want. But for now I will store it in a csv file."
   ]
  },
  {
   "cell_type": "code",
   "execution_count": 50,
   "metadata": {},
   "outputs": [],
   "source": [
    "data.to_csv(\"data.csv\",index=False)"
   ]
  },
  {
   "cell_type": "markdown",
   "metadata": {},
   "source": [
    "This file now can and will be used for further data analysis and machine learning. We will visualize and try to understand how flight prices change overtime, and what causes them to change etc. But for now we are done with this project.\n",
    "\n",
    "## Thank you for reading!"
   ]
  },
  {
   "cell_type": "code",
   "execution_count": null,
   "metadata": {},
   "outputs": [],
   "source": []
  }
 ],
 "metadata": {
  "kernelspec": {
   "display_name": "Python 3",
   "language": "python",
   "name": "python3"
  },
  "language_info": {
   "codemirror_mode": {
    "name": "ipython",
    "version": 3
   },
   "file_extension": ".py",
   "mimetype": "text/x-python",
   "name": "python",
   "nbconvert_exporter": "python",
   "pygments_lexer": "ipython3",
   "version": "3.11.5"
  }
 },
 "nbformat": 4,
 "nbformat_minor": 2
}
